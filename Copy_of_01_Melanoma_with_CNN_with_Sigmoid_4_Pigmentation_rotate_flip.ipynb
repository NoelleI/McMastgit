{
  "nbformat": 4,
  "nbformat_minor": 0,
  "metadata": {
    "colab": {
      "name": "Copy of 01-Melanoma-with-CNN-with-Sigmoid-4-Pigmentation-rotate-flip.ipynb",
      "version": "0.3.2",
      "provenance": [],
      "toc_visible": true,
      "include_colab_link": true
    },
    "language_info": {
      "codemirror_mode": {
        "name": "ipython",
        "version": 3
      },
      "file_extension": ".py",
      "mimetype": "text/x-python",
      "name": "python",
      "nbconvert_exporter": "python",
      "pygments_lexer": "ipython3",
      "version": "3.5.4"
    },
    "kernelspec": {
      "display_name": "Python 3",
      "language": "python",
      "name": "python3"
    }
  },
  "cells": [
    {
      "cell_type": "markdown",
      "metadata": {
        "id": "view-in-github",
        "colab_type": "text"
      },
      "source": [
        "<a href=\"https://colab.research.google.com/github/NoelleI/McMastgit/blob/master/Copy_of_01_Melanoma_with_CNN_with_Sigmoid_4_Pigmentation_rotate_flip.ipynb\" target=\"_parent\"><img src=\"https://colab.research.google.com/assets/colab-badge.svg\" alt=\"Open In Colab\"/></a>"
      ]
    },
    {
      "cell_type": "markdown",
      "metadata": {
        "id": "241BvQNpfNyB",
        "colab_type": "text"
      },
      "source": [
        "# Melanoma with CNN"
      ]
    },
    {
      "cell_type": "markdown",
      "metadata": {
        "id": "HPubA4t4fNyC",
        "colab_type": "text"
      },
      "source": [
        "This analysis trains a neural network to perform segmentation on melanoma data and then applies the algorithm to segment a pigmentation lesion"
      ]
    },
    {
      "cell_type": "markdown",
      "metadata": {
        "id": "A0VaxmP22GVM",
        "colab_type": "text"
      },
      "source": [
        "This line clones the github repository so that data may be accessed and the file can be saved there"
      ]
    },
    {
      "cell_type": "code",
      "metadata": {
        "id": "ddSl392jIi_w",
        "colab_type": "code",
        "outputId": "3fa642da-246e-4405-a51b-e7e581556ab2",
        "colab": {
          "base_uri": "https://localhost:8080/",
          "height": 136
        }
      },
      "source": [
        "!git clone https://github.com/NoelleI/Pigmentation.git"
      ],
      "execution_count": 4,
      "outputs": [
        {
          "output_type": "stream",
          "text": [
            "Cloning into 'Pigmentation'...\n",
            "remote: Enumerating objects: 192, done.\u001b[K\n",
            "remote: Counting objects: 100% (192/192), done.\u001b[K\n",
            "remote: Compressing objects: 100% (192/192), done.\u001b[K\n",
            "remote: Total 426 (delta 94), reused 0 (delta 0), pack-reused 234\u001b[K\n",
            "Receiving objects: 100% (426/426), 43.56 MiB | 48.22 MiB/s, done.\n",
            "Resolving deltas: 100% (109/109), done.\n"
          ],
          "name": "stdout"
        }
      ]
    },
    {
      "cell_type": "markdown",
      "metadata": {
        "id": "3cswYjth4ck7",
        "colab_type": "text"
      },
      "source": [
        "This mounts Google Drive to access the massive melanoma photo data sets"
      ]
    },
    {
      "cell_type": "code",
      "metadata": {
        "id": "8ReR4v01td3m",
        "colab_type": "code",
        "colab": {
          "base_uri": "https://localhost:8080/",
          "height": 122
        },
        "outputId": "52f0abc3-3e05-455b-cf3b-a1bc6fca6204"
      },
      "source": [
        "from google.colab import drive\n",
        "drive.mount('/content/gdrive') "
      ],
      "execution_count": 3,
      "outputs": [
        {
          "output_type": "stream",
          "text": [
            "Go to this URL in a browser: https://accounts.google.com/o/oauth2/auth?client_id=947318989803-6bn6qk8qdgf4n4g3pfee6491hc0brc4i.apps.googleusercontent.com&redirect_uri=urn%3Aietf%3Awg%3Aoauth%3A2.0%3Aoob&scope=email%20https%3A%2F%2Fwww.googleapis.com%2Fauth%2Fdocs.test%20https%3A%2F%2Fwww.googleapis.com%2Fauth%2Fdrive%20https%3A%2F%2Fwww.googleapis.com%2Fauth%2Fdrive.photos.readonly%20https%3A%2F%2Fwww.googleapis.com%2Fauth%2Fpeopleapi.readonly&response_type=code\n",
            "\n",
            "Enter your authorization code:\n",
            "··········\n",
            "Mounted at /content/gdrive\n"
          ],
          "name": "stdout"
        }
      ]
    },
    {
      "cell_type": "code",
      "metadata": {
        "id": "efKvkEMKfNyD",
        "colab_type": "code",
        "outputId": "da5204b1-e75d-4f2e-9706-dbee21afbd7a",
        "colab": {
          "base_uri": "https://localhost:8080/",
          "height": 34
        }
      },
      "source": [
        "import tensorflow as tf\n",
        "import matplotlib\n",
        "import matplotlib.image as mpimg\n",
        "import os\n",
        "%matplotlib inline\n",
        "# First, load the image\n",
        "#dir_path = os.path.dirname(os.path.realpath(__file__))\n",
        "filename = \"./Pigmentation/pigmentation.png\"\n",
        "\n",
        "# Load the image\n",
        "pigment_image = mpimg.imread(filename)\n",
        "\n",
        "# Print out its shape\n",
        "print(pigment_image.shape)\n"
      ],
      "execution_count": 6,
      "outputs": [
        {
          "output_type": "stream",
          "text": [
            "(689, 898, 3)\n"
          ],
          "name": "stdout"
        }
      ]
    },
    {
      "cell_type": "code",
      "metadata": {
        "id": "o0fuEbnzfNyJ",
        "colab_type": "code",
        "outputId": "b3c0ae62-da49-4ddf-afdf-a1fe134fbd60",
        "colab": {
          "base_uri": "https://localhost:8080/",
          "height": 34
        }
      },
      "source": [
        "pwd"
      ],
      "execution_count": 7,
      "outputs": [
        {
          "output_type": "execute_result",
          "data": {
            "text/plain": [
              "'/content'"
            ]
          },
          "metadata": {
            "tags": []
          },
          "execution_count": 7
        }
      ]
    },
    {
      "cell_type": "code",
      "metadata": {
        "id": "8r-Pb0MCfNyM",
        "colab_type": "code",
        "outputId": "8eb845c0-9209-4a34-da06-b65429f73d2d",
        "colab": {
          "base_uri": "https://localhost:8080/",
          "height": 269
        }
      },
      "source": [
        "import matplotlib.pyplot as plt\n",
        "plt.imshow(pigment_image)\n",
        "plt.show()"
      ],
      "execution_count": 8,
      "outputs": [
        {
          "output_type": "display_data",
          "data": {
            "image/png": "[encoded data removed]",
            "text/plain": [
              "<Figure size 432x288 with 1 Axes>"
            ]
          },
          "metadata": {
            "tags": []
          }
        }
      ]
    },
    {
      "cell_type": "code",
      "metadata": {
        "id": "XRiNFY6gfNyP",
        "colab_type": "code",
        "outputId": "e1b880f0-85fa-49dd-bb79-685e431484e5",
        "colab": {
          "base_uri": "https://localhost:8080/",
          "height": 34
        }
      },
      "source": [
        "pigment_image.shape"
      ],
      "execution_count": 9,
      "outputs": [
        {
          "output_type": "execute_result",
          "data": {
            "text/plain": [
              "(689, 898, 3)"
            ]
          },
          "metadata": {
            "tags": []
          },
          "execution_count": 9
        }
      ]
    },
    {
      "cell_type": "code",
      "metadata": {
        "id": "V1ccZ5owfNyR",
        "colab_type": "code",
        "outputId": "7c5b65b6-d86c-4403-f676-62ca185ee8e4",
        "colab": {
          "base_uri": "https://localhost:8080/",
          "height": 85
        }
      },
      "source": [
        "from scipy import ndimage, misc\n",
        "pigment_image_resized = misc.imresize(pigment_image, (96,128,3))"
      ],
      "execution_count": 10,
      "outputs": [
        {
          "output_type": "stream",
          "text": [
            "/usr/local/lib/python3.6/dist-packages/ipykernel_launcher.py:2: DeprecationWarning: `imresize` is deprecated!\n",
            "`imresize` is deprecated in SciPy 1.0.0, and will be removed in 1.3.0.\n",
            "Use Pillow instead: ``numpy.array(Image.fromarray(arr).resize())``.\n",
            "  \n"
          ],
          "name": "stderr"
        }
      ]
    },
    {
      "cell_type": "code",
      "metadata": {
        "id": "MqpbxiAQfNyT",
        "colab_type": "code",
        "colab": {}
      },
      "source": [
        "##note: in order to discern the melanin content, it will be necessary to understand how this resizing algorithm works: does it take a maximum value? What does it use?"
      ],
      "execution_count": 0,
      "outputs": []
    },
    {
      "cell_type": "code",
      "metadata": {
        "id": "vDWN9Rp5fNyV",
        "colab_type": "code",
        "outputId": "69a72410-5d45-47d1-f4ea-606be36432d1",
        "colab": {
          "base_uri": "https://localhost:8080/",
          "height": 269
        }
      },
      "source": [
        "plt.imshow(pigment_image_resized)\n",
        "plt.show()"
      ],
      "execution_count": 12,
      "outputs": [
        {
          "output_type": "display_data",
          "data": {
            "image/png": "[encoded data removed]",
            "text/plain": [
              "<Figure size 432x288 with 1 Axes>"
            ]
          },
          "metadata": {
            "tags": []
          }
        }
      ]
    },
    {
      "cell_type": "code",
      "metadata": {
        "id": "u8c0wI8hfNyX",
        "colab_type": "code",
        "outputId": "3fcbbc2b-00f7-498b-84eb-6b675696d4a0",
        "colab": {
          "base_uri": "https://localhost:8080/",
          "height": 34
        }
      },
      "source": [
        "type(pigment_image)"
      ],
      "execution_count": 13,
      "outputs": [
        {
          "output_type": "execute_result",
          "data": {
            "text/plain": [
              "numpy.ndarray"
            ]
          },
          "metadata": {
            "tags": []
          },
          "execution_count": 13
        }
      ]
    },
    {
      "cell_type": "code",
      "metadata": {
        "id": "_gV5JVt3fNya",
        "colab_type": "code",
        "colab": {}
      },
      "source": [
        "import numpy as np\n",
        "pigment_image_show = pigment_image_resized\n",
        "pigment_image_resized = np.reshape(pigment_image_resized, [1,96,128,3])"
      ],
      "execution_count": 0,
      "outputs": []
    },
    {
      "cell_type": "code",
      "metadata": {
        "id": "CLb2SmFqfNyc",
        "colab_type": "code",
        "outputId": "5e32aa61-9cf9-4933-c0a6-2c6885ccfcf0",
        "colab": {
          "base_uri": "https://localhost:8080/",
          "height": 153
        }
      },
      "source": [
        "from scipy import ndimage, misc\n",
        "import re\n",
        "#get pigmentation photos\n",
        "pigs = []\n",
        "for root, dirnames, filenames in os.walk(\"./Pigmentation/Pigmentation_photos/Experiment 1/Spot 4\"): \n",
        "    for filename in filenames:\n",
        "        if re.search('d*.PNG', filename):\n",
        "            filepath = os.path.join(root, filename)\n",
        "            pig = ndimage.imread(filepath)\n",
        "            pig_resized = misc.imresize(pig, (96,128,3))  #redo this size or re-size later in Tensorflow\n",
        "            pigs.append(pig_resized)\n",
        "            #filename = filename.split(\".\")\n",
        "            #name = filename[0] + \"2.\" + filename[1]\n",
        "            #print(name)\n",
        "            \n",
        "            #new_path = os.path.join(root, name)\n",
        "            #f = open(new_path, 'w+b')\n",
        "            #misc.imsave(new_path, seg_resized)\n",
        "            #os.remove(filepath)\n",
        "            #f.close()\n",
        "pigs = np.array(pigs)"
      ],
      "execution_count": 15,
      "outputs": [
        {
          "output_type": "stream",
          "text": [
            "/usr/local/lib/python3.6/dist-packages/ipykernel_launcher.py:9: DeprecationWarning: `imread` is deprecated!\n",
            "`imread` is deprecated in SciPy 1.0.0.\n",
            "Use ``matplotlib.pyplot.imread`` instead.\n",
            "  if __name__ == '__main__':\n",
            "/usr/local/lib/python3.6/dist-packages/ipykernel_launcher.py:10: DeprecationWarning: `imresize` is deprecated!\n",
            "`imresize` is deprecated in SciPy 1.0.0, and will be removed in 1.3.0.\n",
            "Use Pillow instead: ``numpy.array(Image.fromarray(arr).resize())``.\n",
            "  # Remove the CWD from sys.path while we load stuff.\n"
          ],
          "name": "stderr"
        }
      ]
    },
    {
      "cell_type": "code",
      "metadata": {
        "id": "16YjyKn5fNye",
        "colab_type": "code",
        "outputId": "53eb1c6d-e063-4806-a29d-d3f6ecc95398",
        "colab": {
          "base_uri": "https://localhost:8080/",
          "height": 493
        }
      },
      "source": [
        "filenames "
      ],
      "execution_count": 18,
      "outputs": [
        {
          "output_type": "execute_result",
          "data": {
            "text/plain": [
              "['14--10-10-am.PNG',\n",
              " '6--09-28-am.PNG',\n",
              " '8--09-29-am.PNG',\n",
              " '12--10-04-pm.PNG',\n",
              " '10--09-30-pm.PNG',\n",
              " '21--10-120-pm.PNG',\n",
              " '11--10-02-pm.PNG',\n",
              " '5--09-27-pm.PNG',\n",
              " '15--10-11-pm.PNG',\n",
              " '27--11-11-pm.PNG',\n",
              " '25--11-06-pm.PNG',\n",
              " '26--11-10-am.PNG',\n",
              " '20--10-18-pm.PNG',\n",
              " '7--09-28-pm.PNG',\n",
              " '22--10-25-am.PNG',\n",
              " '4--09-25-pm.PNG',\n",
              " '2--09-23-pm.PNG',\n",
              " '0-0--09-22-pm.PNG',\n",
              " '3--09-25-am.PNG',\n",
              " '19--10-16-pm.PNG',\n",
              " '16--10-12-pm.PNG',\n",
              " '24--11-04-am.PNG',\n",
              " '17--10-13-am.PNG',\n",
              " '23--10-28-pm.PNG',\n",
              " '9--09-29-pm.PNG',\n",
              " '1-1--09-23-am.PNG',\n",
              " '18--10-14-am.PNG',\n",
              " '13--10-06-am.PNG']"
            ]
          },
          "metadata": {
            "tags": []
          },
          "execution_count": 18
        }
      ]
    },
    {
      "cell_type": "code",
      "metadata": {
        "id": "jtuGqdGLfNyh",
        "colab_type": "code",
        "outputId": "442f5a08-c4a6-4636-cb56-f1e3a362edee",
        "colab": {
          "base_uri": "https://localhost:8080/",
          "height": 286
        }
      },
      "source": [
        "plt.imshow(pigs[0])\n"
      ],
      "execution_count": 19,
      "outputs": [
        {
          "output_type": "execute_result",
          "data": {
            "text/plain": [
              "<matplotlib.image.AxesImage at 0x7f24359ae240>"
            ]
          },
          "metadata": {
            "tags": []
          },
          "execution_count": 19
        },
        {
          "output_type": "display_data",
          "data": {
            "image/png": "[encoded data removed]",
            "text/plain": [
              "<Figure size 432x288 with 1 Axes>"
            ]
          },
          "metadata": {
            "tags": []
          }
        }
      ]
    },
    {
      "cell_type": "code",
      "metadata": {
        "id": "Pw0kvHibfNyk",
        "colab_type": "code",
        "colab": {}
      },
      "source": [
        ""
      ],
      "execution_count": 0,
      "outputs": []
    },
    {
      "cell_type": "code",
      "metadata": {
        "id": "7C9-o1mCfNym",
        "colab_type": "code",
        "colab": {
          "base_uri": "https://localhost:8080/",
          "height": 34
        },
        "outputId": "d076f5b8-0fa7-4944-b263-86b97af8614c"
      },
      "source": [
        "\n",
        "images = []\n",
        "for root, dirnames, filenames in os.walk(\"/content/gdrive/My Drive/Melanoma Challenge.zip (Unzipped Files)/Melanoma Challenge/ISBI2016_ISIC_Part1_Training_Data/\"):\n",
        "    print(root)\n",
        "    for filename in filenames:\n",
        "        if re.search(\"ISIC_\\d*final_size2.(jpg|jpeg|png|bmp|tiff)$\", filename):  ##This will retrieve all the images, so needs 2b redone\n",
        "            filepath = os.path.join(root, filename)\n",
        "            image = ndimage.imread(filepath, mode=\"RGB\")\n",
        "            #image_resized = misc.imresize(image, (96,128,3))  #redo this size or re-size later in Tensorflow ->STORE resized images later\n",
        "            images.append(image)\n",
        "            flip_ud_image = np.flipud(image)\n",
        "            images.append(flip_ud_image)\n",
        "            rotate_image = ndimage.rotate(image, 45)\n",
        "            rotate_image = misc.imresize(rotate_image, (96,128,3))\n",
        "            images.append(rotate_image)\n",
        "            #filename = filename.split(\".\")\n",
        "            #name = filename[0] + \"2.\" + filename[1]\n",
        "            #print(name)\n",
        "            \n",
        "            #new_path = os.path.join(root, name)\n",
        "            #f = open(new_path, 'w+b')\n",
        "            #misc.imsave(new_path, image_resized)\n",
        "            #f.close()\n",
        "images = np.array(images)"
      ],
      "execution_count": 41,
      "outputs": [
        {
          "output_type": "stream",
          "text": [
            "/content/gdrive/My Drive/Melanoma Challenge.zip (Unzipped Files)/Melanoma Challenge/ISBI2016_ISIC_Part1_Training_Data/\n"
          ],
          "name": "stdout"
        }
      ]
    },
    {
      "cell_type": "code",
      "metadata": {
        "id": "YHX6zN6QfNyp",
        "colab_type": "code",
        "outputId": "2aae3507-3b72-4bcc-f7b7-33dcff20c10e",
        "colab": {}
      },
      "source": [
        "image = images[2593,:,:,:]\n",
        "rotate_image = ndimage.rotate(image, 45)\n",
        "rotate_image = misc.imresize(rotate_image, (96,128,3))\n",
        "plt.imshow(rotate_image)\n",
        "plt.show()"
      ],
      "execution_count": 0,
      "outputs": [
        {
          "output_type": "display_data",
          "data": {
            "image/png": "[encoded data removed]",
            "text/plain": [
              "<matplotlib.figure.Figure at 0x20e71e04f28>"
            ]
          },
          "metadata": {
            "tags": []
          }
        }
      ]
    },
    {
      "cell_type": "code",
      "metadata": {
        "id": "u0_rbtlKKvof",
        "colab_type": "code",
        "colab": {
          "base_uri": "https://localhost:8080/",
          "height": 15283
        },
        "outputId": "0c268505-2baa-4a14-c56d-dafbf2632564"
      },
      "source": [
        "filenames"
      ],
      "execution_count": 42,
      "outputs": [
        {
          "output_type": "execute_result",
          "data": {
            "text/plain": [
              "['ISIC_0000041.jpg',\n",
              " 'ISIC_0000034.jpg',\n",
              " 'ISIC_0000039.jpg',\n",
              " 'ISIC_0000035.jpg',\n",
              " 'ISIC_0000032.jpg',\n",
              " 'ISIC_0000038.jpg',\n",
              " 'ISIC_0000031.jpg',\n",
              " 'ISIC_0000030.jpg',\n",
              " 'ISIC_0000029.jpg',\n",
              " 'ISIC_0000028.jpg',\n",
              " 'ISIC_0000025.jpg',\n",
              " 'ISIC_0000026.jpg',\n",
              " 'ISIC_0000024.jpg',\n",
              " 'ISIC_0000021.jpg',\n",
              " 'ISIC_0000017.jpg',\n",
              " 'ISIC_0000016.jpg',\n",
              " 'ISIC_0000011.jpg',\n",
              " 'ISIC_0000019.jpg',\n",
              " 'ISIC_0000009.jpg',\n",
              " 'ISIC_0000018.jpg',\n",
              " 'ISIC_0000008.jpg',\n",
              " 'ISIC_0000007.jpg',\n",
              " 'ISIC_0000010.jpg',\n",
              " 'ISIC_0000002.jpg',\n",
              " 'ISIC_0000006.jpg',\n",
              " 'ISIC_0000004.jpg',\n",
              " 'ISIC_0000001.jpg',\n",
              " 'ISIC_0000000.jpg',\n",
              " 'ISIC_0000100.jpg',\n",
              " 'ISIC_0000097.jpg',\n",
              " 'ISIC_0000095.jpg',\n",
              " 'ISIC_0000096.jpg',\n",
              " 'ISIC_0000091.jpg',\n",
              " 'ISIC_0000094.jpg',\n",
              " 'ISIC_0000093.jpg',\n",
              " 'ISIC_0000085.jpg',\n",
              " 'ISIC_0000087.jpg',\n",
              " 'ISIC_0000089.jpg',\n",
              " 'ISIC_0000086.jpg',\n",
              " 'ISIC_0000082.jpg',\n",
              " 'ISIC_0000081.jpg',\n",
              " 'ISIC_0000080.jpg',\n",
              " 'ISIC_0000079.jpg',\n",
              " 'ISIC_0000074.jpg',\n",
              " 'ISIC_0000077.jpg',\n",
              " 'ISIC_0000078.jpg',\n",
              " 'ISIC_0000075.jpg',\n",
              " 'ISIC_0000067.jpg',\n",
              " 'ISIC_0000073.jpg',\n",
              " 'ISIC_0000065.jpg',\n",
              " 'ISIC_0000063.jpg',\n",
              " 'ISIC_0000068.jpg',\n",
              " 'ISIC_0000062.jpg',\n",
              " 'ISIC_0000061.jpg',\n",
              " 'ISIC_0000060.jpg',\n",
              " 'ISIC_0000058.jpg',\n",
              " 'ISIC_0000059.jpg',\n",
              " 'ISIC_0000055.jpg',\n",
              " 'ISIC_0000054.jpg',\n",
              " 'ISIC_0000050.jpg',\n",
              " 'ISIC_0000051.jpg',\n",
              " 'ISIC_0000049.jpg',\n",
              " 'ISIC_0000048.jpg',\n",
              " 'ISIC_0000047.jpg',\n",
              " 'ISIC_0000046.jpg',\n",
              " 'ISIC_0000045.jpg',\n",
              " 'ISIC_0000044.jpg',\n",
              " 'ISIC_0000042.jpg',\n",
              " 'ISIC_0000135.jpg',\n",
              " 'ISIC_0000130.jpg',\n",
              " 'ISIC_0000128.jpg',\n",
              " 'ISIC_0000123.jpg',\n",
              " 'ISIC_0000127.jpg',\n",
              " 'ISIC_0000122.jpg',\n",
              " 'ISIC_0000124.jpg',\n",
              " 'ISIC_0000121.jpg',\n",
              " 'ISIC_0000120.jpg',\n",
              " 'ISIC_0000118.jpg',\n",
              " 'ISIC_0000114.jpg',\n",
              " 'ISIC_0000119.jpg',\n",
              " 'ISIC_0000112.jpg',\n",
              " 'ISIC_0000116.jpg',\n",
              " 'ISIC_0000110.jpg',\n",
              " 'ISIC_0000109.jpg',\n",
              " 'ISIC_0000108.jpg',\n",
              " 'ISIC_0000103.jpg',\n",
              " 'ISIC_0000104.jpg',\n",
              " 'ISIC_0000102.jpg',\n",
              " 'ISIC_0000105.jpg',\n",
              " 'ISIC_0000203.jpg',\n",
              " 'ISIC_0000199.jpg',\n",
              " 'ISIC_0000193.jpg',\n",
              " 'ISIC_0000191.jpg',\n",
              " 'ISIC_0000189.jpg',\n",
              " 'ISIC_0000190.jpg',\n",
              " 'ISIC_0000192.jpg',\n",
              " 'ISIC_0000186.jpg',\n",
              " 'ISIC_0000185.jpg',\n",
              " 'ISIC_0000187.jpg',\n",
              " 'ISIC_0000184.jpg',\n",
              " 'ISIC_0000181.jpg',\n",
              " 'ISIC_0000182.jpg',\n",
              " 'ISIC_0000183.jpg',\n",
              " 'ISIC_0000179.jpg',\n",
              " 'ISIC_0000176.jpg',\n",
              " 'ISIC_0000171.jpg',\n",
              " 'ISIC_0000173.jpg',\n",
              " 'ISIC_0000175.jpg',\n",
              " 'ISIC_0000170.jpg',\n",
              " 'ISIC_0000167.jpg',\n",
              " 'ISIC_0000166.jpg',\n",
              " 'ISIC_0000156.jpg',\n",
              " 'ISIC_0000163.jpg',\n",
              " 'ISIC_0000155.jpg',\n",
              " 'ISIC_0000154.jpg',\n",
              " 'ISIC_0000162.jpg',\n",
              " 'ISIC_0000159.jpg',\n",
              " 'ISIC_0000157.jpg',\n",
              " 'ISIC_0000153.jpg',\n",
              " 'ISIC_0000151.jpg',\n",
              " 'ISIC_0000150.jpg',\n",
              " 'ISIC_0000152.jpg',\n",
              " 'ISIC_0000148.jpg',\n",
              " 'ISIC_0000147.jpg',\n",
              " 'ISIC_0000146.jpg',\n",
              " 'ISIC_0000142.jpg',\n",
              " 'ISIC_0000145.jpg',\n",
              " 'ISIC_0000143.jpg',\n",
              " 'ISIC_0000140.jpg',\n",
              " 'ISIC_0000139.jpg',\n",
              " 'ISIC_0000137.jpg',\n",
              " 'ISIC_0000133.jpg',\n",
              " 'ISIC_0000131.jpg',\n",
              " 'ISIC_0000134.jpg',\n",
              " 'ISIC_0000341.jpg',\n",
              " 'ISIC_0000339.jpg',\n",
              " 'ISIC_0000337.jpg',\n",
              " 'ISIC_0000338.jpg',\n",
              " 'ISIC_0000333.jpg',\n",
              " 'ISIC_0000336.jpg',\n",
              " 'ISIC_0000331.jpg',\n",
              " 'ISIC_0000330.jpg',\n",
              " 'ISIC_0000332.jpg',\n",
              " 'ISIC_0000326.jpg',\n",
              " 'ISIC_0000329.jpg',\n",
              " 'ISIC_0000322.jpg',\n",
              " 'ISIC_0000324.jpg',\n",
              " 'ISIC_0000323.jpg',\n",
              " 'ISIC_0000321.jpg',\n",
              " 'ISIC_0000316.jpg',\n",
              " 'ISIC_0000317.jpg',\n",
              " 'ISIC_0000315.jpg',\n",
              " 'ISIC_0000314.jpg',\n",
              " 'ISIC_0000313.jpg',\n",
              " 'ISIC_0000307.jpg',\n",
              " 'ISIC_0000303.jpg',\n",
              " 'ISIC_0000301.jpg',\n",
              " 'ISIC_0000300.jpg',\n",
              " 'ISIC_0000294.jpg',\n",
              " 'ISIC_0000297.jpg',\n",
              " 'ISIC_0000295.jpg',\n",
              " 'ISIC_0000292.jpg',\n",
              " 'ISIC_0000293.jpg',\n",
              " 'ISIC_0000290.jpg',\n",
              " 'ISIC_0000288.jpg',\n",
              " 'ISIC_0000285.jpg',\n",
              " 'ISIC_0000283.jpg',\n",
              " 'ISIC_0000281.jpg',\n",
              " 'ISIC_0000282.jpg',\n",
              " 'ISIC_0000277.jpg',\n",
              " 'ISIC_0000280.jpg',\n",
              " 'ISIC_0000274.jpg',\n",
              " 'ISIC_0000275.jpg',\n",
              " 'ISIC_0000278.jpg',\n",
              " 'ISIC_0000276.jpg',\n",
              " 'ISIC_0000269.jpg',\n",
              " 'ISIC_0000268.jpg',\n",
              " 'ISIC_0000263.jpg',\n",
              " 'ISIC_0000262.jpg',\n",
              " 'ISIC_0000264.jpg',\n",
              " 'ISIC_0000265.jpg',\n",
              " 'ISIC_0000259.jpg',\n",
              " 'ISIC_0000260.jpg',\n",
              " 'ISIC_0000261.jpg',\n",
              " 'ISIC_0000256.jpg',\n",
              " 'ISIC_0000255.jpg',\n",
              " 'ISIC_0000252.jpg',\n",
              " 'ISIC_0000251.jpg',\n",
              " 'ISIC_0000250.jpg',\n",
              " 'ISIC_0000249.jpg',\n",
              " 'ISIC_0000245.jpg',\n",
              " 'ISIC_0000244.jpg',\n",
              " 'ISIC_0000247.jpg',\n",
              " 'ISIC_0000242.jpg',\n",
              " 'ISIC_0000239.jpg',\n",
              " 'ISIC_0000240.jpg',\n",
              " 'ISIC_0000243.jpg',\n",
              " 'ISIC_0000237.jpg',\n",
              " 'ISIC_0000235.jpg',\n",
              " 'ISIC_0000232.jpg',\n",
              " 'ISIC_0000236.jpg',\n",
              " 'ISIC_0000225.jpg',\n",
              " 'ISIC_0000224.jpg',\n",
              " 'ISIC_0000229.jpg',\n",
              " 'ISIC_0000220.jpg',\n",
              " 'ISIC_0000221.jpg',\n",
              " 'ISIC_0000223.jpg',\n",
              " 'ISIC_0000219.jpg',\n",
              " 'ISIC_0000216.jpg',\n",
              " 'ISIC_0000215.jpg',\n",
              " 'ISIC_0000217.jpg',\n",
              " 'ISIC_0000218.jpg',\n",
              " 'ISIC_0000214.jpg',\n",
              " 'ISIC_0000210.jpg',\n",
              " 'ISIC_0000211.jpg',\n",
              " 'ISIC_0000209.jpg',\n",
              " 'ISIC_0000207.jpg',\n",
              " 'ISIC_0000208.jpg',\n",
              " 'ISIC_0000205.jpg',\n",
              " 'ISIC_0000204.jpg',\n",
              " 'ISIC_0000206.jpg',\n",
              " 'ISIC_0000427.jpg',\n",
              " 'ISIC_0000426.jpg',\n",
              " 'ISIC_0000421.jpg',\n",
              " 'ISIC_0000425.jpg',\n",
              " 'ISIC_0000423.jpg',\n",
              " 'ISIC_0000419.jpg',\n",
              " 'ISIC_0000416.jpg',\n",
              " 'ISIC_0000415.jpg',\n",
              " 'ISIC_0000413.jpg',\n",
              " 'ISIC_0000412.jpg',\n",
              " 'ISIC_0000409.jpg',\n",
              " 'ISIC_0000410.jpg',\n",
              " 'ISIC_0000408.jpg',\n",
              " 'ISIC_0000403.jpg',\n",
              " 'ISIC_0000391.jpg',\n",
              " 'ISIC_0000397.jpg',\n",
              " 'ISIC_0000395.jpg',\n",
              " 'ISIC_0000396.jpg',\n",
              " 'ISIC_0000390.jpg',\n",
              " 'ISIC_0000386.jpg',\n",
              " 'ISIC_0000387.jpg',\n",
              " 'ISIC_0000385.jpg',\n",
              " 'ISIC_0000384.jpg',\n",
              " 'ISIC_0000382.jpg',\n",
              " 'ISIC_0000383.jpg',\n",
              " 'ISIC_0000379.jpg',\n",
              " 'ISIC_0000376.jpg',\n",
              " 'ISIC_0000381.jpg',\n",
              " 'ISIC_0000374.jpg',\n",
              " 'ISIC_0000372.jpg',\n",
              " 'ISIC_0000370.jpg',\n",
              " 'ISIC_0000369.jpg',\n",
              " 'ISIC_0000367.jpg',\n",
              " 'ISIC_0000366.jpg',\n",
              " 'ISIC_0000365.jpg',\n",
              " 'ISIC_0000364.jpg',\n",
              " 'ISIC_0000363.jpg',\n",
              " 'ISIC_0000361.jpg',\n",
              " 'ISIC_0000360.jpg',\n",
              " 'ISIC_0000359.jpg',\n",
              " 'ISIC_0000358.jpg',\n",
              " 'ISIC_0000355.jpg',\n",
              " 'ISIC_0000353.jpg',\n",
              " 'ISIC_0000352.jpg',\n",
              " 'ISIC_0000349.jpg',\n",
              " 'ISIC_0000350.jpg',\n",
              " 'ISIC_0000351.jpg',\n",
              " 'ISIC_0000348.jpg',\n",
              " 'ISIC_0000346.jpg',\n",
              " 'ISIC_0000347.jpg',\n",
              " 'ISIC_0000345.jpg',\n",
              " 'ISIC_0000342.jpg',\n",
              " 'ISIC_0000344.jpg',\n",
              " 'ISIC_0000503.jpg',\n",
              " 'ISIC_0000500.jpg',\n",
              " 'ISIC_0000498.jpg',\n",
              " 'ISIC_0000496.jpg',\n",
              " 'ISIC_0000495.jpg',\n",
              " 'ISIC_0000493.jpg',\n",
              " 'ISIC_0000492.jpg',\n",
              " 'ISIC_0000473.jpg',\n",
              " 'ISIC_0000491.jpg',\n",
              " 'ISIC_0000488.jpg',\n",
              " 'ISIC_0000489.jpg',\n",
              " 'ISIC_0000486.jpg',\n",
              " 'ISIC_0000485.jpg',\n",
              " 'ISIC_0000481.jpg',\n",
              " 'ISIC_0000483.jpg',\n",
              " 'ISIC_0000463.jpg',\n",
              " 'ISIC_0000480.jpg',\n",
              " 'ISIC_0000478.jpg',\n",
              " 'ISIC_0000475.jpg',\n",
              " 'ISIC_0000477.jpg',\n",
              " 'ISIC_0000474.jpg',\n",
              " 'ISIC_0000471.jpg',\n",
              " 'ISIC_0000469.jpg',\n",
              " 'ISIC_0000468.jpg',\n",
              " 'ISIC_0000467.jpg',\n",
              " 'ISIC_0000465.jpg',\n",
              " 'ISIC_0000460.jpg',\n",
              " 'ISIC_0000461.jpg',\n",
              " 'ISIC_0000454.jpg',\n",
              " 'ISIC_0000457.jpg',\n",
              " 'ISIC_0000455.jpg',\n",
              " 'ISIC_0000458.jpg',\n",
              " 'ISIC_0000453.jpg',\n",
              " 'ISIC_0000452.jpg',\n",
              " 'ISIC_0000451.jpg',\n",
              " 'ISIC_0000444.jpg',\n",
              " 'ISIC_0000445.jpg',\n",
              " 'ISIC_0000443.jpg',\n",
              " 'ISIC_0000447.jpg',\n",
              " 'ISIC_0000442.jpg',\n",
              " 'ISIC_0000439.jpg',\n",
              " 'ISIC_0000436.jpg',\n",
              " 'ISIC_0000434.jpg',\n",
              " 'ISIC_0000431.jpg',\n",
              " 'ISIC_0001126.jpg',\n",
              " 'ISIC_0001118.jpg',\n",
              " 'ISIC_0001119.jpg',\n",
              " 'ISIC_0001106.jpg',\n",
              " 'ISIC_0001105.jpg',\n",
              " 'ISIC_0001102.jpg',\n",
              " 'ISIC_0000556.jpg',\n",
              " 'ISIC_0000554.jpg',\n",
              " 'ISIC_0000552.jpg',\n",
              " 'ISIC_0000555.jpg',\n",
              " 'ISIC_0000546.jpg',\n",
              " 'ISIC_0000545.jpg',\n",
              " 'ISIC_0000551.jpg',\n",
              " 'ISIC_0000544.jpg',\n",
              " 'ISIC_0000548.jpg',\n",
              " 'ISIC_0000541.jpg',\n",
              " 'ISIC_0000543.jpg',\n",
              " 'ISIC_0000542.jpg',\n",
              " 'ISIC_0000504.jpg',\n",
              " 'ISIC_0000538.jpg',\n",
              " 'ISIC_0000536.jpg',\n",
              " 'ISIC_0000532.jpg',\n",
              " 'ISIC_0000531.jpg',\n",
              " 'ISIC_0000535.jpg',\n",
              " 'ISIC_0000529.jpg',\n",
              " 'ISIC_0000530.jpg',\n",
              " 'ISIC_0000528.jpg',\n",
              " 'ISIC_0000524.jpg',\n",
              " 'ISIC_0000521.jpg',\n",
              " 'ISIC_0000520.jpg',\n",
              " 'ISIC_0000523.jpg',\n",
              " 'ISIC_0000519.jpg',\n",
              " 'ISIC_0000522.jpg',\n",
              " 'ISIC_0000517.jpg',\n",
              " 'ISIC_0000516.jpg',\n",
              " 'ISIC_0000514.jpg',\n",
              " 'ISIC_0000513.jpg',\n",
              " 'ISIC_0000511.jpg',\n",
              " 'ISIC_0000507.jpg',\n",
              " 'ISIC_0000506.jpg',\n",
              " 'ISIC_0000505.jpg',\n",
              " 'ISIC_0001184.jpg',\n",
              " 'ISIC_0001163.jpg',\n",
              " 'ISIC_0000999.jpg',\n",
              " 'ISIC_0001148.jpg',\n",
              " 'ISIC_0001152.jpg',\n",
              " 'ISIC_0000900.jpg',\n",
              " 'ISIC_0001134.jpg',\n",
              " 'ISIC_0001140.jpg',\n",
              " 'ISIC_0000882.jpg',\n",
              " 'ISIC_0001133.jpg',\n",
              " 'ISIC_0001216.jpg',\n",
              " 'ISIC_0001267.jpg',\n",
              " 'ISIC_0001262.jpg',\n",
              " 'ISIC_0001247.jpg',\n",
              " 'ISIC_0001254.jpg',\n",
              " 'ISIC_0001213.jpg',\n",
              " 'ISIC_0001191.jpg',\n",
              " 'ISIC_0001187.jpg',\n",
              " 'ISIC_0001188.jpg',\n",
              " 'ISIC_0001212.jpg',\n",
              " 'ISIC_0001372.jpg',\n",
              " 'ISIC_0001367.jpg',\n",
              " 'ISIC_0001306.jpg',\n",
              " 'ISIC_0001296.jpg',\n",
              " 'ISIC_0001292.jpg',\n",
              " 'ISIC_0001286.jpg',\n",
              " 'ISIC_0001275.jpg',\n",
              " 'ISIC_0002287.jpg',\n",
              " 'ISIC_0002251.jpg',\n",
              " 'ISIC_0002093.jpg',\n",
              " 'ISIC_0002206.jpg',\n",
              " 'ISIC_0001742.jpg',\n",
              " 'ISIC_0001442.jpg',\n",
              " 'ISIC_0001449.jpg',\n",
              " 'ISIC_0001423.jpg',\n",
              " 'ISIC_0001385.jpg',\n",
              " 'ISIC_0001374.jpg',\n",
              " 'ISIC_0002476.jpg',\n",
              " 'ISIC_0002453.jpg',\n",
              " 'ISIC_0002469.jpg',\n",
              " 'ISIC_0002439.jpg',\n",
              " 'ISIC_0002459.jpg',\n",
              " 'ISIC_0002438.jpg',\n",
              " 'ISIC_0002374.jpg',\n",
              " 'ISIC_0002353.jpg',\n",
              " 'ISIC_0002879.jpg',\n",
              " 'ISIC_0002806.jpg',\n",
              " 'ISIC_0002647.jpg',\n",
              " 'ISIC_0002616.jpg',\n",
              " 'ISIC_0002780.jpg',\n",
              " 'ISIC_0002489.jpg',\n",
              " 'ISIC_0002488.jpg',\n",
              " 'ISIC_0002976.jpg',\n",
              " 'ISIC_0002975.jpg',\n",
              " 'ISIC_0002885.jpg',\n",
              " 'ISIC_0003174.jpg',\n",
              " 'ISIC_0003005.jpg',\n",
              " 'ISIC_0002948.jpg',\n",
              " 'ISIC_0002836.jpg',\n",
              " 'ISIC_0004168.jpg',\n",
              " 'ISIC_0004715.jpg',\n",
              " 'ISIC_0004166.jpg',\n",
              " 'ISIC_0003346.jpg',\n",
              " 'ISIC_0004110.jpg',\n",
              " 'ISIC_0003051.jpg',\n",
              " 'ISIC_0003308.jpg',\n",
              " 'ISIC_0005787.jpg',\n",
              " 'ISIC_0005666.jpg',\n",
              " 'ISIC_0005639.jpg',\n",
              " 'ISIC_0005620.jpg',\n",
              " 'ISIC_0005564.jpg',\n",
              " 'ISIC_0004985.jpg',\n",
              " 'ISIC_0005548.jpg',\n",
              " 'ISIC_0005187.jpg',\n",
              " 'ISIC_0005247.jpg',\n",
              " 'ISIC_0006795.jpg',\n",
              " 'ISIC_0006800.jpg',\n",
              " 'ISIC_0006776.jpg',\n",
              " 'ISIC_0006612.jpg',\n",
              " 'ISIC_0006326.jpg',\n",
              " 'ISIC_0006350.jpg',\n",
              " 'ISIC_0006021.jpg',\n",
              " 'ISIC_0006114.jpg',\n",
              " 'ISIC_0007760.jpg',\n",
              " 'ISIC_0007557.jpg',\n",
              " 'ISIC_0007475.jpg',\n",
              " 'ISIC_0007038.jpg',\n",
              " 'ISIC_0007087.jpg',\n",
              " 'ISIC_0006940.jpg',\n",
              " 'ISIC_0006982.jpg',\n",
              " 'ISIC_0008256.jpg',\n",
              " 'ISIC_0008294.jpg',\n",
              " 'ISIC_0008280.jpg',\n",
              " 'ISIC_0008145.jpg',\n",
              " 'ISIC_0008236.jpg',\n",
              " 'ISIC_0008029.jpg',\n",
              " 'ISIC_0007788.jpg',\n",
              " 'ISIC_0008552.jpg',\n",
              " 'ISIC_0008785.jpg',\n",
              " 'ISIC_0008528.jpg',\n",
              " 'ISIC_0008541.jpg',\n",
              " 'ISIC_0008524.jpg',\n",
              " 'ISIC_0008396.jpg',\n",
              " 'ISIC_0008403.jpg',\n",
              " 'ISIC_0008347.jpg',\n",
              " 'ISIC_0009160.jpg',\n",
              " 'ISIC_0008879.jpg',\n",
              " 'ISIC_0008913.jpg',\n",
              " 'ISIC_0008993.jpg',\n",
              " 'ISIC_0008807.jpg',\n",
              " 'ISIC_0009344.jpg',\n",
              " 'ISIC_0009297.jpg',\n",
              " 'ISIC_0009430.jpg',\n",
              " 'ISIC_0009188.jpg',\n",
              " 'ISIC_0009165.jpg',\n",
              " 'ISIC_0009252.jpg',\n",
              " 'ISIC_0009800.jpg',\n",
              " 'ISIC_0009884.jpg',\n",
              " 'ISIC_0009860.jpg',\n",
              " 'ISIC_0009883.jpg',\n",
              " 'ISIC_0009877.jpg',\n",
              " 'ISIC_0009875.jpg',\n",
              " 'ISIC_0009873.jpg',\n",
              " 'ISIC_0009871.jpg',\n",
              " 'ISIC_0009870.jpg',\n",
              " 'ISIC_0009868.jpg',\n",
              " 'ISIC_0009758.jpg',\n",
              " 'ISIC_0009599.jpg',\n",
              " 'ISIC_0009505.jpg',\n",
              " 'ISIC_0009533.jpg',\n",
              " 'ISIC_0009583.jpg',\n",
              " 'ISIC_0009504.jpg',\n",
              " 'ISIC_0010014.jpg',\n",
              " 'ISIC_0010015.jpg',\n",
              " 'ISIC_0010010.jpg',\n",
              " 'ISIC_0010006.jpg',\n",
              " 'ISIC_0010005.jpg',\n",
              " 'ISIC_0010003.jpg',\n",
              " 'ISIC_0010002.jpg',\n",
              " 'ISIC_0010001.jpg',\n",
              " 'ISIC_0010000.jpg',\n",
              " 'ISIC_0009995.jpg',\n",
              " 'ISIC_0009987.jpg',\n",
              " 'ISIC_0009991.jpg',\n",
              " 'ISIC_0009986.jpg',\n",
              " 'ISIC_0009983.jpg',\n",
              " 'ISIC_0009981.jpg',\n",
              " 'ISIC_0009978.jpg',\n",
              " 'ISIC_0009979.jpg',\n",
              " 'ISIC_0009975.jpg',\n",
              " 'ISIC_0009976.jpg',\n",
              " 'ISIC_0009968.jpg',\n",
              " 'ISIC_0009974.jpg',\n",
              " 'ISIC_0009973.jpg',\n",
              " 'ISIC_0009972.jpg',\n",
              " 'ISIC_0009971.jpg',\n",
              " 'ISIC_0009969.jpg',\n",
              " 'ISIC_0009967.jpg',\n",
              " 'ISIC_0009964.jpg',\n",
              " 'ISIC_0009966.jpg',\n",
              " 'ISIC_0009963.jpg',\n",
              " 'ISIC_0009962.jpg',\n",
              " 'ISIC_0009961.jpg',\n",
              " 'ISIC_0009960.jpg',\n",
              " 'ISIC_0009953.jpg',\n",
              " 'ISIC_0009951.jpg',\n",
              " 'ISIC_0009949.jpg',\n",
              " 'ISIC_0009950.jpg',\n",
              " 'ISIC_0009944.jpg',\n",
              " 'ISIC_0009947.jpg',\n",
              " 'ISIC_0009942.jpg',\n",
              " 'ISIC_0009941.jpg',\n",
              " 'ISIC_0009939.jpg',\n",
              " 'ISIC_0009940.jpg',\n",
              " 'ISIC_0009935.jpg',\n",
              " 'ISIC_0009938.jpg',\n",
              " 'ISIC_0009937.jpg',\n",
              " 'ISIC_0009936.jpg',\n",
              " 'ISIC_0009934.jpg',\n",
              " 'ISIC_0009933.jpg',\n",
              " 'ISIC_0009932.jpg',\n",
              " 'ISIC_0009929.jpg',\n",
              " 'ISIC_0009912.jpg',\n",
              " 'ISIC_0009925.jpg',\n",
              " 'ISIC_0009919.jpg',\n",
              " 'ISIC_0009921.jpg',\n",
              " 'ISIC_0009917.jpg',\n",
              " 'ISIC_0009905.jpg',\n",
              " 'ISIC_0009911.jpg',\n",
              " 'ISIC_0009909.jpg',\n",
              " 'ISIC_0009914.jpg',\n",
              " 'ISIC_0009915.jpg',\n",
              " 'ISIC_0009910.jpg',\n",
              " 'ISIC_0009904.jpg',\n",
              " 'ISIC_0009900.jpg',\n",
              " 'ISIC_0009899.jpg',\n",
              " 'ISIC_0009897.jpg',\n",
              " 'ISIC_0009895.jpg',\n",
              " 'ISIC_0009896.jpg',\n",
              " 'ISIC_0009893.jpg',\n",
              " 'ISIC_0009888.jpg',\n",
              " 'ISIC_0010226.jpg',\n",
              " 'ISIC_0010223.jpg',\n",
              " 'ISIC_0010222.jpg',\n",
              " 'ISIC_0010220.jpg',\n",
              " 'ISIC_0010218.jpg',\n",
              " 'ISIC_0010219.jpg',\n",
              " 'ISIC_0010213.jpg',\n",
              " 'ISIC_0010212.jpg',\n",
              " 'ISIC_0010205.jpg',\n",
              " 'ISIC_0010204.jpg',\n",
              " 'ISIC_0010203.jpg',\n",
              " 'ISIC_0010194.jpg',\n",
              " 'ISIC_0010191.jpg',\n",
              " 'ISIC_0010189.jpg',\n",
              " 'ISIC_0010186.jpg',\n",
              " 'ISIC_0010185.jpg',\n",
              " 'ISIC_0010182.jpg',\n",
              " 'ISIC_0010184.jpg',\n",
              " 'ISIC_0010178.jpg',\n",
              " 'ISIC_0010177.jpg',\n",
              " 'ISIC_0010176.jpg',\n",
              " 'ISIC_0010174.jpg',\n",
              " 'ISIC_0010170.jpg',\n",
              " 'ISIC_0010169.jpg',\n",
              " 'ISIC_0010105.jpg',\n",
              " 'ISIC_0010168.jpg',\n",
              " 'ISIC_0010104.jpg',\n",
              " 'ISIC_0010102.jpg',\n",
              " 'ISIC_0010101.jpg',\n",
              " 'ISIC_0010093.jpg',\n",
              " 'ISIC_0010094.jpg',\n",
              " 'ISIC_0010091.jpg',\n",
              " 'ISIC_0010090.jpg',\n",
              " 'ISIC_0010083.jpg',\n",
              " 'ISIC_0010087.jpg',\n",
              " 'ISIC_0010086.jpg',\n",
              " 'ISIC_0010081.jpg',\n",
              " 'ISIC_0010078.jpg',\n",
              " 'ISIC_0010080.jpg',\n",
              " 'ISIC_0010079.jpg',\n",
              " 'ISIC_0010074.jpg',\n",
              " 'ISIC_0010075.jpg',\n",
              " 'ISIC_0010071.jpg',\n",
              " 'ISIC_0010069.jpg',\n",
              " 'ISIC_0010070.jpg',\n",
              " 'ISIC_0010068.jpg',\n",
              " 'ISIC_0010067.jpg',\n",
              " 'ISIC_0010066.jpg',\n",
              " 'ISIC_0010065.jpg',\n",
              " 'ISIC_0010064.jpg',\n",
              " 'ISIC_0010063.jpg',\n",
              " 'ISIC_0010060.jpg',\n",
              " 'ISIC_0010057.jpg',\n",
              " 'ISIC_0010054.jpg',\n",
              " 'ISIC_0010056.jpg',\n",
              " 'ISIC_0010053.jpg',\n",
              " 'ISIC_0010046.jpg',\n",
              " 'ISIC_0010052.jpg',\n",
              " 'ISIC_0010051.jpg',\n",
              " 'ISIC_0010044.jpg',\n",
              " 'ISIC_0010043.jpg',\n",
              " 'ISIC_0010040.jpg',\n",
              " 'ISIC_0010042.jpg',\n",
              " 'ISIC_0010036.jpg',\n",
              " 'ISIC_0010035.jpg',\n",
              " 'ISIC_0010032.jpg',\n",
              " 'ISIC_0010029.jpg',\n",
              " 'ISIC_0010025.jpg',\n",
              " 'ISIC_0010024.jpg',\n",
              " 'ISIC_0010022.jpg',\n",
              " 'ISIC_0010021.jpg',\n",
              " 'ISIC_0010017.jpg',\n",
              " 'ISIC_0010019.jpg',\n",
              " 'ISIC_0010445.jpg',\n",
              " 'ISIC_0010441.jpg',\n",
              " 'ISIC_0010442.jpg',\n",
              " 'ISIC_0010439.jpg',\n",
              " 'ISIC_0010440.jpg',\n",
              " 'ISIC_0010438.jpg',\n",
              " 'ISIC_0010382.jpg',\n",
              " 'ISIC_0010436.jpg',\n",
              " 'ISIC_0010435.jpg',\n",
              " 'ISIC_0010380.jpg',\n",
              " 'ISIC_0010372.jpg',\n",
              " 'ISIC_0010371.jpg',\n",
              " 'ISIC_0010370.jpg',\n",
              " 'ISIC_0010367.jpg',\n",
              " 'ISIC_0010365.jpg',\n",
              " 'ISIC_0010364.jpg',\n",
              " 'ISIC_0010358.jpg',\n",
              " 'ISIC_0010361.jpg',\n",
              " 'ISIC_0010362.jpg',\n",
              " 'ISIC_0010357.jpg',\n",
              " 'ISIC_0010356.jpg',\n",
              " 'ISIC_0010351.jpg',\n",
              " 'ISIC_0010352.jpg',\n",
              " 'ISIC_0010350.jpg',\n",
              " 'ISIC_0010349.jpg',\n",
              " 'ISIC_0010344.jpg',\n",
              " 'ISIC_0010342.jpg',\n",
              " 'ISIC_0010337.jpg',\n",
              " 'ISIC_0010341.jpg',\n",
              " 'ISIC_0010339.jpg',\n",
              " 'ISIC_0010335.jpg',\n",
              " 'ISIC_0010334.jpg',\n",
              " 'ISIC_0010333.jpg',\n",
              " 'ISIC_0010332.jpg',\n",
              " 'ISIC_0010330.jpg',\n",
              " 'ISIC_0010329.jpg',\n",
              " 'ISIC_0010325.jpg',\n",
              " 'ISIC_0010327.jpg',\n",
              " 'ISIC_0010324.jpg',\n",
              " 'ISIC_0010323.jpg',\n",
              " 'ISIC_0010322.jpg',\n",
              " 'ISIC_0010321.jpg',\n",
              " 'ISIC_0010320.jpg',\n",
              " 'ISIC_0010319.jpg',\n",
              " 'ISIC_0010318.jpg',\n",
              " 'ISIC_0010317.jpg',\n",
              " 'ISIC_0010266.jpg',\n",
              " 'ISIC_0010267.jpg',\n",
              " 'ISIC_0010265.jpg',\n",
              " 'ISIC_0010264.jpg',\n",
              " 'ISIC_0010263.jpg',\n",
              " 'ISIC_0010262.jpg',\n",
              " 'ISIC_0010256.jpg',\n",
              " 'ISIC_0010252.jpg',\n",
              " 'ISIC_0010249.jpg',\n",
              " 'ISIC_0010251.jpg',\n",
              " 'ISIC_0010248.jpg',\n",
              " 'ISIC_0010246.jpg',\n",
              " 'ISIC_0010247.jpg',\n",
              " 'ISIC_0010244.jpg',\n",
              " 'ISIC_0010242.jpg',\n",
              " 'ISIC_0010240.jpg',\n",
              " 'ISIC_0010241.jpg',\n",
              " 'ISIC_0010239.jpg',\n",
              " 'ISIC_0010237.jpg',\n",
              " 'ISIC_0010236.jpg',\n",
              " 'ISIC_0010235.jpg',\n",
              " 'ISIC_0010232.jpg',\n",
              " 'ISIC_0010233.jpg',\n",
              " 'ISIC_0010230.jpg',\n",
              " 'ISIC_0010228.jpg',\n",
              " 'ISIC_0010227.jpg',\n",
              " 'ISIC_0010225.jpg',\n",
              " 'ISIC_0010864.jpg',\n",
              " 'ISIC_0010862.jpg',\n",
              " 'ISIC_0010861.jpg',\n",
              " 'ISIC_0010860.jpg',\n",
              " 'ISIC_0010857.jpg',\n",
              " 'ISIC_0010858.jpg',\n",
              " 'ISIC_0010853.jpg',\n",
              " 'ISIC_0010852.jpg',\n",
              " 'ISIC_0010851.jpg',\n",
              " 'ISIC_0010850.jpg',\n",
              " 'ISIC_0010849.jpg',\n",
              " 'ISIC_0010848.jpg',\n",
              " 'ISIC_0010844.jpg',\n",
              " 'ISIC_0010605.jpg',\n",
              " 'ISIC_0010603.jpg',\n",
              " 'ISIC_0010594.jpg',\n",
              " 'ISIC_0010602.jpg',\n",
              " 'ISIC_0010595.jpg',\n",
              " 'ISIC_0010590.jpg',\n",
              " 'ISIC_0010593.jpg',\n",
              " 'ISIC_0010589.jpg',\n",
              " 'ISIC_0010586.jpg',\n",
              " 'ISIC_0010585.jpg',\n",
              " 'ISIC_0010577.jpg',\n",
              " 'ISIC_0010581.jpg',\n",
              " 'ISIC_0010576.jpg',\n",
              " 'ISIC_0010575.jpg',\n",
              " 'ISIC_0010573.jpg',\n",
              " 'ISIC_0010572.jpg',\n",
              " 'ISIC_0010571.jpg',\n",
              " 'ISIC_0010570.jpg',\n",
              " 'ISIC_0010569.jpg',\n",
              " 'ISIC_0010568.jpg',\n",
              " 'ISIC_0010557.jpg',\n",
              " 'ISIC_0010567.jpg',\n",
              " 'ISIC_0010566.jpg',\n",
              " 'ISIC_0010562.jpg',\n",
              " 'ISIC_0010558.jpg',\n",
              " 'ISIC_0010554.jpg',\n",
              " 'ISIC_0010495.jpg',\n",
              " 'ISIC_0010497.jpg',\n",
              " 'ISIC_0010496.jpg',\n",
              " 'ISIC_0010493.jpg',\n",
              " 'ISIC_0010492.jpg',\n",
              " 'ISIC_0010491.jpg',\n",
              " 'ISIC_0010471.jpg',\n",
              " 'ISIC_0010490.jpg',\n",
              " 'ISIC_0010488.jpg',\n",
              " 'ISIC_0010487.jpg',\n",
              " 'ISIC_0010481.jpg',\n",
              " 'ISIC_0010480.jpg',\n",
              " 'ISIC_0010479.jpg',\n",
              " 'ISIC_0010476.jpg',\n",
              " 'ISIC_0010475.jpg',\n",
              " 'ISIC_0010473.jpg',\n",
              " 'ISIC_0010472.jpg',\n",
              " 'ISIC_0010468.jpg',\n",
              " 'ISIC_0010462.jpg',\n",
              " 'ISIC_0010461.jpg',\n",
              " 'ISIC_0010464.jpg',\n",
              " 'ISIC_0010465.jpg',\n",
              " 'ISIC_0010466.jpg',\n",
              " 'ISIC_0010467.jpg',\n",
              " 'ISIC_0010458.jpg',\n",
              " 'ISIC_0010459.jpg',\n",
              " 'ISIC_0010457.jpg',\n",
              " 'ISIC_0010455.jpg',\n",
              " 'ISIC_0010450.jpg',\n",
              " 'ISIC_0010447.jpg',\n",
              " 'ISIC_0010443.jpg',\n",
              " 'ISIC_0011225.jpg',\n",
              " 'ISIC_0011223.jpg',\n",
              " 'ISIC_0011220.jpg',\n",
              " 'ISIC_0011203.jpg',\n",
              " 'ISIC_0011218.jpg',\n",
              " 'ISIC_0011217.jpg',\n",
              " 'ISIC_0011215.jpg',\n",
              " 'ISIC_0011214.jpg',\n",
              " 'ISIC_0011212.jpg',\n",
              " 'ISIC_0011211.jpg',\n",
              " 'ISIC_0011210.jpg',\n",
              " 'ISIC_0011208.jpg',\n",
              " 'ISIC_0011207.jpg',\n",
              " 'ISIC_0011202.jpg',\n",
              " 'ISIC_0011200.jpg',\n",
              " 'ISIC_0011199.jpg',\n",
              " 'ISIC_0011169.jpg',\n",
              " 'ISIC_0011173.jpg',\n",
              " 'ISIC_0011170.jpg',\n",
              " 'ISIC_0011166.jpg',\n",
              " 'ISIC_0011164.jpg',\n",
              " 'ISIC_0011165.jpg',\n",
              " 'ISIC_0011163.jpg',\n",
              " 'ISIC_0011161.jpg',\n",
              " 'ISIC_0011156.jpg',\n",
              " 'ISIC_0011159.jpg',\n",
              " 'ISIC_0011158.jpg',\n",
              " 'ISIC_0011157.jpg',\n",
              " 'ISIC_0011146.jpg',\n",
              " 'ISIC_0011145.jpg',\n",
              " 'ISIC_0011144.jpg',\n",
              " 'ISIC_0011141.jpg',\n",
              " 'ISIC_0011140.jpg',\n",
              " 'ISIC_0011139.jpg',\n",
              " 'ISIC_0011136.jpg',\n",
              " 'ISIC_0011137.jpg',\n",
              " 'ISIC_0011135.jpg',\n",
              " 'ISIC_0011131.jpg',\n",
              " 'ISIC_0011130.jpg',\n",
              " 'ISIC_0011128.jpg',\n",
              " 'ISIC_0011127.jpg',\n",
              " 'ISIC_0011126.jpg',\n",
              " 'ISIC_0011125.jpg',\n",
              " 'ISIC_0011124.jpg',\n",
              " 'ISIC_0011123.jpg',\n",
              " 'ISIC_0011121.jpg',\n",
              " 'ISIC_0011120.jpg',\n",
              " 'ISIC_0011119.jpg',\n",
              " 'ISIC_0011117.jpg',\n",
              " 'ISIC_0011118.jpg',\n",
              " 'ISIC_0011116.jpg',\n",
              " 'ISIC_0011109.jpg',\n",
              " 'ISIC_0011115.jpg',\n",
              " 'ISIC_0011100.jpg',\n",
              " 'ISIC_0011114.jpg',\n",
              " 'ISIC_0011097.jpg',\n",
              " 'ISIC_0011105.jpg',\n",
              " 'ISIC_0011102.jpg',\n",
              " 'ISIC_0011099.jpg',\n",
              " 'ISIC_0011095.jpg',\n",
              " 'ISIC_0011088.jpg',\n",
              " 'ISIC_0011085.jpg',\n",
              " 'ISIC_0011084.jpg',\n",
              " 'ISIC_0011079.jpg',\n",
              " 'ISIC_0011082.jpg',\n",
              " 'ISIC_0011402.jpg',\n",
              " 'ISIC_0011400.jpg',\n",
              " 'ISIC_0011398.jpg',\n",
              " 'ISIC_0011397.jpg',\n",
              " 'ISIC_0011393.jpg',\n",
              " 'ISIC_0011390.jpg',\n",
              " 'ISIC_0011387.jpg',\n",
              " 'ISIC_0011385.jpg',\n",
              " 'ISIC_0011383.jpg',\n",
              " 'ISIC_0011382.jpg',\n",
              " 'ISIC_0011380.jpg',\n",
              " 'ISIC_0011378.jpg',\n",
              " 'ISIC_0011373.jpg',\n",
              " 'ISIC_0011366.jpg',\n",
              " 'ISIC_0011372.jpg',\n",
              " 'ISIC_0011362.jpg',\n",
              " 'ISIC_0011361.jpg',\n",
              " 'ISIC_0011360.jpg',\n",
              " 'ISIC_0011358.jpg',\n",
              " 'ISIC_0011356.jpg',\n",
              " 'ISIC_0011357.jpg',\n",
              " 'ISIC_0011354.jpg',\n",
              " 'ISIC_0011350.jpg',\n",
              " 'ISIC_0011353.jpg',\n",
              " 'ISIC_0011352.jpg',\n",
              " 'ISIC_0011348.jpg',\n",
              " 'ISIC_0011347.jpg',\n",
              " 'ISIC_0011345.jpg',\n",
              " 'ISIC_0011346.jpg',\n",
              " 'ISIC_0011343.jpg',\n",
              " 'ISIC_0011341.jpg',\n",
              " 'ISIC_0011339.jpg',\n",
              " 'ISIC_0011334.jpg',\n",
              " 'ISIC_0011332.jpg',\n",
              " 'ISIC_0011331.jpg',\n",
              " 'ISIC_0011330.jpg',\n",
              " 'ISIC_0011329.jpg',\n",
              " 'ISIC_0011328.jpg',\n",
              " 'ISIC_0011327.jpg',\n",
              " 'ISIC_0011323.jpg',\n",
              " 'ISIC_0011326.jpg',\n",
              " 'ISIC_0011324.jpg',\n",
              " 'ISIC_0011322.jpg',\n",
              " 'ISIC_0011315.jpg',\n",
              " 'ISIC_0011317.jpg',\n",
              " 'ISIC_0011303.jpg',\n",
              " 'ISIC_0011306.jpg',\n",
              " 'ISIC_0011304.jpg',\n",
              " 'ISIC_0011301.jpg',\n",
              " 'ISIC_0011299.jpg',\n",
              " 'ISIC_0011297.jpg',\n",
              " 'ISIC_0011296.jpg',\n",
              " 'ISIC_0011295.jpg',\n",
              " 'ISIC_0011229.jpg',\n",
              " 'ISIC_0011230.jpg',\n",
              " 'ISIC_0011228.jpg',\n",
              " 'ISIC_0011226.jpg']"
            ]
          },
          "metadata": {
            "tags": []
          },
          "execution_count": 42
        }
      ]
    },
    {
      "cell_type": "code",
      "metadata": {
        "id": "uYzSsGfJfNyr",
        "colab_type": "code",
        "outputId": "128ac544-2390-4eb4-9b36-6ebba6bc5c7d",
        "colab": {}
      },
      "source": [
        "images.shape\n",
        "                       \n"
      ],
      "execution_count": 0,
      "outputs": [
        {
          "output_type": "execute_result",
          "data": {
            "text/plain": [
              "(7782, 96, 128, 3)"
            ]
          },
          "metadata": {
            "tags": []
          },
          "execution_count": 15
        }
      ]
    },
    {
      "cell_type": "code",
      "metadata": {
        "scrolled": true,
        "id": "L4oVdioPfNyu",
        "colab_type": "code",
        "outputId": "5157b41f-e659-4488-c979-9e2f69bedfcb",
        "colab": {}
      },
      "source": [
        "image = images[2593,:,:,:]\n",
        "plt.imshow(image)\n",
        "plt.show()"
      ],
      "execution_count": 0,
      "outputs": [
        {
          "output_type": "display_data",
          "data": {
            "image/png": "[encoded data removed]",
            "text/plain": [
              "<matplotlib.figure.Figure at 0x20e71e66d30>"
            ]
          },
          "metadata": {
            "tags": []
          }
        }
      ]
    },
    {
      "cell_type": "code",
      "metadata": {
        "id": "ua4HcGj1fNyx",
        "colab_type": "code",
        "outputId": "de6646de-0ff7-4cfe-aa45-8a5007aba74e",
        "colab": {}
      },
      "source": [
        "filepath"
      ],
      "execution_count": 0,
      "outputs": [
        {
          "output_type": "execute_result",
          "data": {
            "text/plain": [
              "'C:/Users/Admin/Documents/Skin Depth/Leads and Projects/Melanoma Challenge/2018/ISIC2018_Task1-2_Training_Input/ISIC2018_Task1-2_Training_Input\\\\ISIC_0016072final_size2.jpg'"
            ]
          },
          "metadata": {
            "tags": []
          },
          "execution_count": 17
        }
      ]
    },
    {
      "cell_type": "code",
      "metadata": {
        "id": "1TzfHJAQfNy3",
        "colab_type": "code",
        "outputId": "daeb4da3-d9a0-4c67-edf5-8dd0c91b9ac9",
        "colab": {}
      },
      "source": [
        "image.shape"
      ],
      "execution_count": 0,
      "outputs": [
        {
          "output_type": "execute_result",
          "data": {
            "text/plain": [
              "(96, 128, 3)"
            ]
          },
          "metadata": {
            "tags": []
          },
          "execution_count": 18
        }
      ]
    },
    {
      "cell_type": "code",
      "metadata": {
        "id": "gVkIYE05fNy6",
        "colab_type": "code",
        "outputId": "646c88f7-7d10-4853-f9c0-de38b5e9e13b",
        "colab": {}
      },
      "source": [
        "image = image = ndimage.imread(filepath, mode=\"RGB\")\n",
        "plt.imshow(image)\n",
        "plt.show()"
      ],
      "execution_count": 0,
      "outputs": [
        {
          "output_type": "display_data",
          "data": {
            "image/png": "[encoded data removed]",
            "text/plain": [
              "<matplotlib.figure.Figure at 0x20e71e7d2e8>"
            ]
          },
          "metadata": {
            "tags": []
          }
        }
      ]
    },
    {
      "cell_type": "code",
      "metadata": {
        "id": "-U-RUbxEfNy9",
        "colab_type": "code",
        "colab": {}
      },
      "source": [
        "#C:/Users\\Admin\\Documents\\Skin Depth\\Leads and Projects\\Melanoma Challenge\\2018\\ISIC2018_Task1_Training_GroundTruth\\ISIC2018_Task1_Training_GroundTruth\n",
        "segs = []\n",
        "for root, dirnames, filenames in os.walk(\"C:/Users/Admin/Documents/Skin Depth/Leads and Projects/Melanoma Challenge/2018/ISIC2018_Task1_Training_GroundTruth/ISIC2018_Task1_Training_GroundTruth\"): \n",
        "    for filename in filenames:\n",
        "        if re.search(\"\\w*final_size2.(jpg|jpeg|png|bmp|tiff)$\", filename):\n",
        "            filepath = os.path.join(root, filename)\n",
        "            seg = ndimage.imread(filepath, mode=\"L\")\n",
        "            seg_resized = misc.imresize(seg, (96,128,1))  #redo this size or re-size later in Tensorflow\n",
        "            segs.append(seg)\n",
        "            flip_ud_seg = np.flipud(seg)\n",
        "            segs.append(flip_ud_seg)\n",
        "            rotate_seg = ndimage.rotate(seg, 45)\n",
        "            rotate_seg = misc.imresize(rotate_seg, (96,128,3))\n",
        "            segs.append(rotate_seg)\n",
        "            #filename = filename.split(\".\")\n",
        "            #name = filename[0] + \"2.\" + filename[1]\n",
        "            #print(name)\n",
        "            \n",
        "            #new_path = os.path.join(root, name)\n",
        "            #f = open(new_path, 'w+b')\n",
        "            #misc.imsave(new_path, seg_resized)\n",
        "            #os.remove(filepath)\n",
        "            #f.close()\n",
        "segs = np.array(segs)\n"
      ],
      "execution_count": 0,
      "outputs": []
    },
    {
      "cell_type": "code",
      "metadata": {
        "id": "Yam-tyDLfNy_",
        "colab_type": "code",
        "outputId": "a72a1333-29aa-476d-ac98-dce0e8c0beb0",
        "colab": {}
      },
      "source": [
        "filenames\n"
      ],
      "execution_count": 0,
      "outputs": [
        {
          "output_type": "execute_result",
          "data": {
            "text/plain": [
              "['ATTRIBUTION.txt',\n",
              " 'ISIC_0000000_segmentation.png',\n",
              " 'ISIC_0000000_segmentationfinal_size.png',\n",
              " 'ISIC_0000000_segmentationreduced.png',\n",
              " 'ISIC_0000000_segmentation_final_size.png',\n",
              " 'ISIC_0000000_segmentation_final_size2.png',\n",
              " 'ISIC_0000001_segmentation.png',\n",
              " 'ISIC_0000001_segmentationfinal_size.png',\n",
              " 'ISIC_0000001_segmentationreduced.png',\n",
              " 'ISIC_0000001_segmentation_final_size.png',\n",
              " 'ISIC_0000001_segmentation_final_size2.png',\n",
              " 'ISIC_0000003_segmentation.png',\n",
              " 'ISIC_0000003_segmentationfinal_size.png',\n",
              " 'ISIC_0000003_segmentationreduced.png',\n",
              " 'ISIC_0000003_segmentation_final_size.png',\n",
              " 'ISIC_0000003_segmentation_final_size2.png',\n",
              " 'ISIC_0000004_segmentation.png',\n",
              " 'ISIC_0000004_segmentationfinal_size.png',\n",
              " 'ISIC_0000004_segmentationreduced.png',\n",
              " 'ISIC_0000004_segmentation_final_size.png',\n",
              " 'ISIC_0000004_segmentation_final_size2.png',\n",
              " 'ISIC_0000006_segmentation.png',\n",
              " 'ISIC_0000006_segmentationfinal_size.png',\n",
              " 'ISIC_0000006_segmentationreduced.png',\n",
              " 'ISIC_0000006_segmentation_final_size.png',\n",
              " 'ISIC_0000006_segmentation_final_size2.png',\n",
              " 'ISIC_0000007_segmentation.png',\n",
              " 'ISIC_0000007_segmentationfinal_size.png',\n",
              " 'ISIC_0000007_segmentationreduced.png',\n",
              " 'ISIC_0000007_segmentation_final_size.png',\n",
              " 'ISIC_0000007_segmentation_final_size2.png',\n",
              " 'ISIC_0000008_segmentation.png',\n",
              " 'ISIC_0000008_segmentationfinal_size.png',\n",
              " 'ISIC_0000008_segmentationreduced.png',\n",
              " 'ISIC_0000008_segmentation_final_size.png',\n",
              " 'ISIC_0000008_segmentation_final_size2.png',\n",
              " 'ISIC_0000009_segmentation.png',\n",
              " 'ISIC_0000009_segmentationfinal_size.png',\n",
              " 'ISIC_0000009_segmentationreduced.png',\n",
              " 'ISIC_0000009_segmentation_final_size.png',\n",
              " 'ISIC_0000009_segmentation_final_size2.png',\n",
              " 'ISIC_0000011_segmentation.png',\n",
              " 'ISIC_0000011_segmentationfinal_size.png',\n",
              " 'ISIC_0000011_segmentationreduced.png',\n",
              " 'ISIC_0000011_segmentation_final_size.png',\n",
              " 'ISIC_0000011_segmentation_final_size2.png',\n",
              " 'ISIC_0000012_segmentation.png',\n",
              " 'ISIC_0000012_segmentationfinal_size.png',\n",
              " 'ISIC_0000012_segmentationreduced.png',\n",
              " 'ISIC_0000012_segmentation_final_size.png',\n",
              " 'ISIC_0000012_segmentation_final_size2.png',\n",
              " 'ISIC_0000013_segmentation.png',\n",
              " 'ISIC_0000013_segmentationfinal_size.png',\n",
              " 'ISIC_0000013_segmentationreduced.png',\n",
              " 'ISIC_0000013_segmentation_final_size.png',\n",
              " 'ISIC_0000013_segmentation_final_size2.png',\n",
              " 'ISIC_0000014_segmentation.png',\n",
              " 'ISIC_0000014_segmentationfinal_size.png',\n",
              " 'ISIC_0000014_segmentationreduced.png',\n",
              " 'ISIC_0000014_segmentation_final_size.png',\n",
              " 'ISIC_0000014_segmentation_final_size2.png',\n",
              " 'ISIC_0000015_segmentation.png',\n",
              " 'ISIC_0000015_segmentationfinal_size.png',\n",
              " 'ISIC_0000015_segmentationreduced.png',\n",
              " 'ISIC_0000015_segmentation_final_size.png',\n",
              " 'ISIC_0000015_segmentation_final_size2.png',\n",
              " 'ISIC_0000016_segmentation.png',\n",
              " 'ISIC_0000016_segmentationfinal_size.png',\n",
              " 'ISIC_0000016_segmentationreduced.png',\n",
              " 'ISIC_0000016_segmentation_final_size.png',\n",
              " 'ISIC_0000016_segmentation_final_size2.png',\n",
              " 'ISIC_0000017_segmentation.png',\n",
              " 'ISIC_0000017_segmentationfinal_size.png',\n",
              " 'ISIC_0000017_segmentationreduced.png',\n",
              " 'ISIC_0000017_segmentation_final_size.png',\n",
              " 'ISIC_0000017_segmentation_final_size2.png',\n",
              " 'ISIC_0000018_segmentation.png',\n",
              " 'ISIC_0000018_segmentationfinal_size.png',\n",
              " 'ISIC_0000018_segmentationreduced.png',\n",
              " 'ISIC_0000018_segmentation_final_size.png',\n",
              " 'ISIC_0000018_segmentation_final_size2.png',\n",
              " 'ISIC_0000019_segmentation.png',\n",
              " 'ISIC_0000019_segmentationfinal_size.png',\n",
              " 'ISIC_0000019_segmentationreduced.png',\n",
              " 'ISIC_0000019_segmentation_final_size.png',\n",
              " 'ISIC_0000019_segmentation_final_size2.png',\n",
              " 'ISIC_0000020_segmentation.png',\n",
              " 'ISIC_0000020_segmentationfinal_size.png',\n",
              " 'ISIC_0000020_segmentationreduced.png',\n",
              " 'ISIC_0000020_segmentation_final_size.png',\n",
              " 'ISIC_0000020_segmentation_final_size2.png',\n",
              " 'ISIC_0000021_segmentation.png',\n",
              " 'ISIC_0000021_segmentationfinal_size.png',\n",
              " 'ISIC_0000021_segmentationreduced.png',\n",
              " 'ISIC_0000021_segmentation_final_size.png',\n",
              " 'ISIC_0000021_segmentation_final_size2.png',\n",
              " 'ISIC_0000022_segmentation.png',\n",
              " 'ISIC_0000022_segmentationfinal_size.png',\n",
              " 'ISIC_0000022_segmentationreduced.png',\n",
              " 'ISIC_0000022_segmentation_final_size.png',\n",
              " 'ISIC_0000022_segmentation_final_size2.png',\n",
              " 'ISIC_0000023_segmentation.png',\n",
              " 'ISIC_0000023_segmentationfinal_size.png',\n",
              " 'ISIC_0000023_segmentationreduced.png',\n",
              " 'ISIC_0000023_segmentation_final_size.png',\n",
              " 'ISIC_0000023_segmentation_final_size2.png',\n",
              " 'ISIC_0000024_segmentation.png',\n",
              " 'ISIC_0000024_segmentationfinal_size.png',\n",
              " 'ISIC_0000024_segmentationreduced.png',\n",
              " 'ISIC_0000024_segmentation_final_size.png',\n",
              " 'ISIC_0000024_segmentation_final_size2.png',\n",
              " 'ISIC_0000025_segmentation.png',\n",
              " 'ISIC_0000025_segmentationfinal_size.png',\n",
              " 'ISIC_0000025_segmentationreduced.png',\n",
              " 'ISIC_0000025_segmentation_final_size.png',\n",
              " 'ISIC_0000025_segmentation_final_size2.png',\n",
              " 'ISIC_0000026_segmentation.png',\n",
              " 'ISIC_0000026_segmentationfinal_size.png',\n",
              " 'ISIC_0000026_segmentationreduced.png',\n",
              " 'ISIC_0000026_segmentation_final_size.png',\n",
              " 'ISIC_0000026_segmentation_final_size2.png',\n",
              " 'ISIC_0000027_segmentation.png',\n",
              " 'ISIC_0000027_segmentationfinal_size.png',\n",
              " 'ISIC_0000027_segmentationreduced.png',\n",
              " 'ISIC_0000027_segmentation_final_size.png',\n",
              " 'ISIC_0000027_segmentation_final_size2.png',\n",
              " 'ISIC_0000028_segmentation.png',\n",
              " 'ISIC_0000028_segmentationfinal_size.png',\n",
              " 'ISIC_0000028_segmentationreduced.png',\n",
              " 'ISIC_0000028_segmentation_final_size.png',\n",
              " 'ISIC_0000028_segmentation_final_size2.png',\n",
              " 'ISIC_0000029_segmentation.png',\n",
              " 'ISIC_0000029_segmentationfinal_size.png',\n",
              " 'ISIC_0000029_segmentationreduced.png',\n",
              " 'ISIC_0000029_segmentation_final_size.png',\n",
              " 'ISIC_0000029_segmentation_final_size2.png',\n",
              " 'ISIC_0000030_segmentation.png',\n",
              " 'ISIC_0000030_segmentationfinal_size.png',\n",
              " 'ISIC_0000030_segmentationreduced.png',\n",
              " 'ISIC_0000030_segmentation_final_size.png',\n",
              " 'ISIC_0000030_segmentation_final_size2.png',\n",
              " 'ISIC_0000031_segmentation.png',\n",
              " 'ISIC_0000031_segmentationfinal_size.png',\n",
              " 'ISIC_0000031_segmentationreduced.png',\n",
              " 'ISIC_0000031_segmentation_final_size.png',\n",
              " 'ISIC_0000031_segmentation_final_size2.png',\n",
              " 'ISIC_0000032_segmentation.png',\n",
              " 'ISIC_0000032_segmentationfinal_size.png',\n",
              " 'ISIC_0000032_segmentationreduced.png',\n",
              " 'ISIC_0000032_segmentation_final_size.png',\n",
              " 'ISIC_0000032_segmentation_final_size2.png',\n",
              " 'ISIC_0000034_segmentation.png',\n",
              " 'ISIC_0000034_segmentationfinal_size.png',\n",
              " 'ISIC_0000034_segmentationreduced.png',\n",
              " 'ISIC_0000034_segmentation_final_size.png',\n",
              " 'ISIC_0000034_segmentation_final_size2.png',\n",
              " 'ISIC_0000035_segmentation.png',\n",
              " 'ISIC_0000035_segmentationfinal_size.png',\n",
              " 'ISIC_0000035_segmentationreduced.png',\n",
              " 'ISIC_0000035_segmentation_final_size.png',\n",
              " 'ISIC_0000035_segmentation_final_size2.png',\n",
              " 'ISIC_0000036_segmentation.png',\n",
              " 'ISIC_0000036_segmentationfinal_size.png',\n",
              " 'ISIC_0000036_segmentationreduced.png',\n",
              " 'ISIC_0000036_segmentation_final_size.png',\n",
              " 'ISIC_0000036_segmentation_final_size2.png',\n",
              " 'ISIC_0000037_segmentation.png',\n",
              " 'ISIC_0000037_segmentationfinal_size.png',\n",
              " 'ISIC_0000037_segmentationreduced.png',\n",
              " 'ISIC_0000037_segmentation_final_size.png',\n",
              " 'ISIC_0000037_segmentation_final_size2.png',\n",
              " 'ISIC_0000038_segmentation.png',\n",
              " 'ISIC_0000038_segmentationfinal_size.png',\n",
              " 'ISIC_0000038_segmentationreduced.png',\n",
              " 'ISIC_0000038_segmentation_final_size.png',\n",
              " 'ISIC_0000038_segmentation_final_size2.png',\n",
              " 'ISIC_0000039_segmentation.png',\n",
              " 'ISIC_0000039_segmentationfinal_size.png',\n",
              " 'ISIC_0000039_segmentationreduced.png',\n",
              " 'ISIC_0000039_segmentation_final_size.png',\n",
              " 'ISIC_0000039_segmentation_final_size2.png',\n",
              " 'ISIC_0000040_segmentation.png',\n",
              " 'ISIC_0000040_segmentationfinal_size.png',\n",
              " 'ISIC_0000040_segmentationreduced.png',\n",
              " 'ISIC_0000040_segmentation_final_size.png',\n",
              " 'ISIC_0000040_segmentation_final_size2.png',\n",
              " 'ISIC_0000041_segmentation.png',\n",
              " 'ISIC_0000041_segmentationfinal_size.png',\n",
              " 'ISIC_0000041_segmentationreduced.png',\n",
              " 'ISIC_0000041_segmentation_final_size.png',\n",
              " 'ISIC_0000041_segmentation_final_size2.png',\n",
              " 'ISIC_0000042_segmentation.png',\n",
              " 'ISIC_0000042_segmentationfinal_size.png',\n",
              " 'ISIC_0000042_segmentationreduced.png',\n",
              " 'ISIC_0000042_segmentation_final_size.png',\n",
              " 'ISIC_0000042_segmentation_final_size2.png',\n",
              " 'ISIC_0000043_segmentation.png',\n",
              " 'ISIC_0000043_segmentationfinal_size.png',\n",
              " 'ISIC_0000043_segmentationreduced.png',\n",
              " 'ISIC_0000043_segmentation_final_size.png',\n",
              " 'ISIC_0000043_segmentation_final_size2.png',\n",
              " 'ISIC_0000044_segmentation.png',\n",
              " 'ISIC_0000044_segmentationfinal_size.png',\n",
              " 'ISIC_0000044_segmentationreduced.png',\n",
              " 'ISIC_0000044_segmentation_final_size.png',\n",
              " 'ISIC_0000044_segmentation_final_size2.png',\n",
              " 'ISIC_0000045_segmentation.png',\n",
              " 'ISIC_0000045_segmentationfinal_size.png',\n",
              " 'ISIC_0000045_segmentationreduced.png',\n",
              " 'ISIC_0000045_segmentation_final_size.png',\n",
              " 'ISIC_0000045_segmentation_final_size2.png',\n",
              " 'ISIC_0000046_segmentation.png',\n",
              " 'ISIC_0000046_segmentationfinal_size.png',\n",
              " 'ISIC_0000046_segmentationreduced.png',\n",
              " 'ISIC_0000046_segmentation_final_size.png',\n",
              " 'ISIC_0000046_segmentation_final_size2.png',\n",
              " 'ISIC_0000047_segmentation.png',\n",
              " 'ISIC_0000047_segmentationfinal_size.png',\n",
              " 'ISIC_0000047_segmentationreduced.png',\n",
              " 'ISIC_0000047_segmentation_final_size.png',\n",
              " 'ISIC_0000047_segmentation_final_size2.png',\n",
              " 'ISIC_0000048_segmentation.png',\n",
              " 'ISIC_0000048_segmentationfinal_size.png',\n",
              " 'ISIC_0000048_segmentationreduced.png',\n",
              " 'ISIC_0000048_segmentation_final_size.png',\n",
              " 'ISIC_0000048_segmentation_final_size2.png',\n",
              " 'ISIC_0000049_segmentation.png',\n",
              " 'ISIC_0000049_segmentationfinal_size.png',\n",
              " 'ISIC_0000049_segmentationreduced.png',\n",
              " 'ISIC_0000049_segmentation_final_size.png',\n",
              " 'ISIC_0000049_segmentation_final_size2.png',\n",
              " 'ISIC_0000050_segmentation.png',\n",
              " 'ISIC_0000050_segmentationfinal_size.png',\n",
              " 'ISIC_0000050_segmentationreduced.png',\n",
              " 'ISIC_0000050_segmentation_final_size.png',\n",
              " 'ISIC_0000050_segmentation_final_size2.png',\n",
              " 'ISIC_0000051_segmentation.png',\n",
              " 'ISIC_0000051_segmentationfinal_size.png',\n",
              " 'ISIC_0000051_segmentationreduced.png',\n",
              " 'ISIC_0000051_segmentation_final_size.png',\n",
              " 'ISIC_0000051_segmentation_final_size2.png',\n",
              " 'ISIC_0000052_segmentation.png',\n",
              " 'ISIC_0000052_segmentationfinal_size.png',\n",
              " 'ISIC_0000052_segmentationreduced.png',\n",
              " 'ISIC_0000052_segmentation_final_size.png',\n",
              " 'ISIC_0000052_segmentation_final_size2.png',\n",
              " 'ISIC_0000053_segmentation.png',\n",
              " 'ISIC_0000053_segmentationfinal_size.png',\n",
              " 'ISIC_0000053_segmentationreduced.png',\n",
              " 'ISIC_0000053_segmentation_final_size.png',\n",
              " 'ISIC_0000053_segmentation_final_size2.png',\n",
              " 'ISIC_0000054_segmentation.png',\n",
              " 'ISIC_0000054_segmentationfinal_size.png',\n",
              " 'ISIC_0000054_segmentationreduced.png',\n",
              " 'ISIC_0000054_segmentation_final_size.png',\n",
              " 'ISIC_0000054_segmentation_final_size2.png',\n",
              " 'ISIC_0000055_segmentation.png',\n",
              " 'ISIC_0000055_segmentationfinal_size.png',\n",
              " 'ISIC_0000055_segmentationreduced.png',\n",
              " 'ISIC_0000055_segmentation_final_size.png',\n",
              " 'ISIC_0000055_segmentation_final_size2.png',\n",
              " 'ISIC_0000056_segmentation.png',\n",
              " 'ISIC_0000056_segmentationfinal_size.png',\n",
              " 'ISIC_0000056_segmentationreduced.png',\n",
              " 'ISIC_0000056_segmentation_final_size.png',\n",
              " 'ISIC_0000056_segmentation_final_size2.png',\n",
              " 'ISIC_0000057_segmentation.png',\n",
              " 'ISIC_0000057_segmentationfinal_size.png',\n",
              " 'ISIC_0000057_segmentationreduced.png',\n",
              " 'ISIC_0000057_segmentation_final_size.png',\n",
              " 'ISIC_0000057_segmentation_final_size2.png',\n",
              " 'ISIC_0000058_segmentation.png',\n",
              " 'ISIC_0000058_segmentationfinal_size.png',\n",
              " 'ISIC_0000058_segmentationreduced.png',\n",
              " 'ISIC_0000058_segmentation_final_size.png',\n",
              " 'ISIC_0000058_segmentation_final_size2.png',\n",
              " 'ISIC_0000059_segmentation.png',\n",
              " 'ISIC_0000059_segmentationfinal_size.png',\n",
              " 'ISIC_0000059_segmentationreduced.png',\n",
              " 'ISIC_0000059_segmentation_final_size.png',\n",
              " 'ISIC_0000059_segmentation_final_size2.png',\n",
              " 'ISIC_0000060_segmentation.png',\n",
              " 'ISIC_0000060_segmentationfinal_size.png',\n",
              " 'ISIC_0000060_segmentationreduced.png',\n",
              " 'ISIC_0000060_segmentation_final_size.png',\n",
              " 'ISIC_0000060_segmentation_final_size2.png',\n",
              " 'ISIC_0000061_segmentation.png',\n",
              " 'ISIC_0000061_segmentationfinal_size.png',\n",
              " 'ISIC_0000061_segmentationreduced.png',\n",
              " 'ISIC_0000061_segmentation_final_size.png',\n",
              " 'ISIC_0000061_segmentation_final_size2.png',\n",
              " 'ISIC_0000062_segmentation.png',\n",
              " 'ISIC_0000062_segmentationfinal_size.png',\n",
              " 'ISIC_0000062_segmentationreduced.png',\n",
              " 'ISIC_0000062_segmentation_final_size.png',\n",
              " 'ISIC_0000062_segmentation_final_size2.png',\n",
              " 'ISIC_0000063_segmentation.png',\n",
              " 'ISIC_0000063_segmentationfinal_size.png',\n",
              " 'ISIC_0000063_segmentationreduced.png',\n",
              " 'ISIC_0000063_segmentation_final_size.png',\n",
              " 'ISIC_0000063_segmentation_final_size2.png',\n",
              " 'ISIC_0000064_segmentation.png',\n",
              " 'ISIC_0000064_segmentationfinal_size.png',\n",
              " 'ISIC_0000064_segmentationreduced.png',\n",
              " 'ISIC_0000064_segmentation_final_size.png',\n",
              " 'ISIC_0000064_segmentation_final_size2.png',\n",
              " 'ISIC_0000065_segmentation.png',\n",
              " 'ISIC_0000065_segmentationfinal_size.png',\n",
              " 'ISIC_0000065_segmentationreduced.png',\n",
              " 'ISIC_0000065_segmentation_final_size.png',\n",
              " 'ISIC_0000065_segmentation_final_size2.png',\n",
              " 'ISIC_0000066_segmentation.png',\n",
              " 'ISIC_0000066_segmentationfinal_size.png',\n",
              " 'ISIC_0000066_segmentationreduced.png',\n",
              " 'ISIC_0000066_segmentation_final_size.png',\n",
              " 'ISIC_0000066_segmentation_final_size2.png',\n",
              " 'ISIC_0000067_segmentation.png',\n",
              " 'ISIC_0000067_segmentationfinal_size.png',\n",
              " 'ISIC_0000067_segmentationreduced.png',\n",
              " 'ISIC_0000067_segmentation_final_size.png',\n",
              " 'ISIC_0000067_segmentation_final_size2.png',\n",
              " 'ISIC_0000068_segmentation.png',\n",
              " 'ISIC_0000068_segmentationfinal_size.png',\n",
              " 'ISIC_0000068_segmentationreduced.png',\n",
              " 'ISIC_0000068_segmentation_final_size.png',\n",
              " 'ISIC_0000068_segmentation_final_size2.png',\n",
              " 'ISIC_0000069_segmentation.png',\n",
              " 'ISIC_0000069_segmentationfinal_size.png',\n",
              " 'ISIC_0000069_segmentationreduced.png',\n",
              " 'ISIC_0000069_segmentation_final_size.png',\n",
              " 'ISIC_0000069_segmentation_final_size2.png',\n",
              " 'ISIC_0000071_segmentation.png',\n",
              " 'ISIC_0000071_segmentationfinal_size.png',\n",
              " 'ISIC_0000071_segmentationreduced.png',\n",
              " 'ISIC_0000071_segmentation_final_size.png',\n",
              " 'ISIC_0000071_segmentation_final_size2.png',\n",
              " 'ISIC_0000072_segmentation.png',\n",
              " 'ISIC_0000072_segmentationfinal_size.png',\n",
              " 'ISIC_0000072_segmentationreduced.png',\n",
              " 'ISIC_0000072_segmentation_final_size.png',\n",
              " 'ISIC_0000072_segmentation_final_size2.png',\n",
              " 'ISIC_0000073_segmentation.png',\n",
              " 'ISIC_0000073_segmentationfinal_size.png',\n",
              " 'ISIC_0000073_segmentationreduced.png',\n",
              " 'ISIC_0000073_segmentation_final_size.png',\n",
              " 'ISIC_0000073_segmentation_final_size2.png',\n",
              " 'ISIC_0000074_segmentation.png',\n",
              " 'ISIC_0000074_segmentationfinal_size.png',\n",
              " 'ISIC_0000074_segmentationreduced.png',\n",
              " 'ISIC_0000074_segmentation_final_size.png',\n",
              " 'ISIC_0000074_segmentation_final_size2.png',\n",
              " 'ISIC_0000075_segmentation.png',\n",
              " 'ISIC_0000075_segmentationfinal_size.png',\n",
              " 'ISIC_0000075_segmentationreduced.png',\n",
              " 'ISIC_0000075_segmentation_final_size.png',\n",
              " 'ISIC_0000075_segmentation_final_size2.png',\n",
              " 'ISIC_0000077_segmentation.png',\n",
              " 'ISIC_0000077_segmentationfinal_size.png',\n",
              " 'ISIC_0000077_segmentationreduced.png',\n",
              " 'ISIC_0000077_segmentation_final_size.png',\n",
              " 'ISIC_0000077_segmentation_final_size2.png',\n",
              " 'ISIC_0000078_segmentation.png',\n",
              " 'ISIC_0000078_segmentationfinal_size.png',\n",
              " 'ISIC_0000078_segmentationreduced.png',\n",
              " 'ISIC_0000078_segmentation_final_size.png',\n",
              " 'ISIC_0000078_segmentation_final_size2.png',\n",
              " 'ISIC_0000079_segmentation.png',\n",
              " 'ISIC_0000079_segmentationfinal_size.png',\n",
              " 'ISIC_0000079_segmentationreduced.png',\n",
              " 'ISIC_0000079_segmentation_final_size.png',\n",
              " 'ISIC_0000079_segmentation_final_size2.png',\n",
              " 'ISIC_0000080_segmentation.png',\n",
              " 'ISIC_0000080_segmentationfinal_size.png',\n",
              " 'ISIC_0000080_segmentationreduced.png',\n",
              " 'ISIC_0000080_segmentation_final_size.png',\n",
              " 'ISIC_0000080_segmentation_final_size2.png',\n",
              " 'ISIC_0000081_segmentation.png',\n",
              " 'ISIC_0000081_segmentationfinal_size.png',\n",
              " 'ISIC_0000081_segmentationreduced.png',\n",
              " 'ISIC_0000081_segmentation_final_size.png',\n",
              " 'ISIC_0000081_segmentation_final_size2.png',\n",
              " 'ISIC_0000082_segmentation.png',\n",
              " 'ISIC_0000082_segmentationfinal_size.png',\n",
              " 'ISIC_0000082_segmentationreduced.png',\n",
              " 'ISIC_0000082_segmentation_final_size.png',\n",
              " 'ISIC_0000082_segmentation_final_size2.png',\n",
              " 'ISIC_0000085_segmentation.png',\n",
              " 'ISIC_0000085_segmentationfinal_size.png',\n",
              " 'ISIC_0000085_segmentationreduced.png',\n",
              " 'ISIC_0000085_segmentation_final_size.png',\n",
              " 'ISIC_0000085_segmentation_final_size2.png',\n",
              " 'ISIC_0000086_segmentation.png',\n",
              " 'ISIC_0000086_segmentationfinal_size.png',\n",
              " 'ISIC_0000086_segmentationreduced.png',\n",
              " 'ISIC_0000086_segmentation_final_size.png',\n",
              " 'ISIC_0000086_segmentation_final_size2.png',\n",
              " 'ISIC_0000087_segmentation.png',\n",
              " 'ISIC_0000087_segmentationfinal_size.png',\n",
              " 'ISIC_0000087_segmentationreduced.png',\n",
              " 'ISIC_0000087_segmentation_final_size.png',\n",
              " 'ISIC_0000087_segmentation_final_size2.png',\n",
              " 'ISIC_0000088_segmentation.png',\n",
              " 'ISIC_0000088_segmentationfinal_size.png',\n",
              " 'ISIC_0000088_segmentationreduced.png',\n",
              " 'ISIC_0000088_segmentation_final_size.png',\n",
              " 'ISIC_0000088_segmentation_final_size2.png',\n",
              " 'ISIC_0000089_segmentation.png',\n",
              " 'ISIC_0000089_segmentationfinal_size.png',\n",
              " 'ISIC_0000089_segmentationreduced.png',\n",
              " 'ISIC_0000089_segmentation_final_size.png',\n",
              " 'ISIC_0000089_segmentation_final_size2.png',\n",
              " 'ISIC_0000091_segmentation.png',\n",
              " 'ISIC_0000091_segmentationfinal_size.png',\n",
              " 'ISIC_0000091_segmentationreduced.png',\n",
              " 'ISIC_0000091_segmentation_final_size.png',\n",
              " 'ISIC_0000091_segmentation_final_size2.png',\n",
              " 'ISIC_0000092_segmentation.png',\n",
              " 'ISIC_0000092_segmentationfinal_size.png',\n",
              " 'ISIC_0000092_segmentationreduced.png',\n",
              " 'ISIC_0000092_segmentation_final_size.png',\n",
              " 'ISIC_0000092_segmentation_final_size2.png',\n",
              " 'ISIC_0000093_segmentation.png',\n",
              " 'ISIC_0000093_segmentationfinal_size.png',\n",
              " 'ISIC_0000093_segmentationreduced.png',\n",
              " 'ISIC_0000093_segmentation_final_size.png',\n",
              " 'ISIC_0000093_segmentation_final_size2.png',\n",
              " 'ISIC_0000094_segmentation.png',\n",
              " 'ISIC_0000094_segmentationfinal_size.png',\n",
              " 'ISIC_0000094_segmentationreduced.png',\n",
              " 'ISIC_0000094_segmentation_final_size.png',\n",
              " 'ISIC_0000094_segmentation_final_size2.png',\n",
              " 'ISIC_0000095_segmentation.png',\n",
              " 'ISIC_0000095_segmentationfinal_size.png',\n",
              " 'ISIC_0000095_segmentationreduced.png',\n",
              " 'ISIC_0000095_segmentation_final_size.png',\n",
              " 'ISIC_0000095_segmentation_final_size2.png',\n",
              " 'ISIC_0000096_segmentation.png',\n",
              " 'ISIC_0000096_segmentationfinal_size.png',\n",
              " 'ISIC_0000096_segmentationreduced.png',\n",
              " 'ISIC_0000096_segmentation_final_size.png',\n",
              " 'ISIC_0000096_segmentation_final_size2.png',\n",
              " 'ISIC_0000097_segmentation.png',\n",
              " 'ISIC_0000097_segmentationfinal_size.png',\n",
              " 'ISIC_0000097_segmentationreduced.png',\n",
              " 'ISIC_0000097_segmentation_final_size.png',\n",
              " 'ISIC_0000097_segmentation_final_size2.png',\n",
              " 'ISIC_0000098_segmentation.png',\n",
              " 'ISIC_0000098_segmentationfinal_size.png',\n",
              " 'ISIC_0000098_segmentationreduced.png',\n",
              " 'ISIC_0000098_segmentation_final_size.png',\n",
              " 'ISIC_0000098_segmentation_final_size2.png',\n",
              " 'ISIC_0000099_segmentation.png',\n",
              " 'ISIC_0000099_segmentationfinal_size.png',\n",
              " 'ISIC_0000099_segmentationreduced.png',\n",
              " 'ISIC_0000099_segmentation_final_size.png',\n",
              " 'ISIC_0000099_segmentation_final_size2.png',\n",
              " 'ISIC_0000100_segmentation.png',\n",
              " 'ISIC_0000100_segmentationfinal_size.png',\n",
              " 'ISIC_0000100_segmentationreduced.png',\n",
              " 'ISIC_0000100_segmentation_final_size.png',\n",
              " 'ISIC_0000100_segmentation_final_size2.png',\n",
              " 'ISIC_0000101_segmentation.png',\n",
              " 'ISIC_0000101_segmentationfinal_size.png',\n",
              " 'ISIC_0000101_segmentationreduced.png',\n",
              " 'ISIC_0000101_segmentation_final_size.png',\n",
              " 'ISIC_0000101_segmentation_final_size2.png',\n",
              " 'ISIC_0000102_segmentation.png',\n",
              " 'ISIC_0000102_segmentationfinal_size.png',\n",
              " 'ISIC_0000102_segmentationreduced.png',\n",
              " 'ISIC_0000102_segmentation_final_size.png',\n",
              " 'ISIC_0000102_segmentation_final_size2.png',\n",
              " 'ISIC_0000103_segmentation.png',\n",
              " 'ISIC_0000103_segmentationfinal_size.png',\n",
              " 'ISIC_0000103_segmentationreduced.png',\n",
              " 'ISIC_0000103_segmentation_final_size.png',\n",
              " 'ISIC_0000103_segmentation_final_size2.png',\n",
              " 'ISIC_0000104_segmentation.png',\n",
              " 'ISIC_0000104_segmentationfinal_size.png',\n",
              " 'ISIC_0000104_segmentationreduced.png',\n",
              " 'ISIC_0000104_segmentation_final_size.png',\n",
              " 'ISIC_0000104_segmentation_final_size2.png',\n",
              " 'ISIC_0000105_segmentation.png',\n",
              " 'ISIC_0000105_segmentationfinal_size.png',\n",
              " 'ISIC_0000105_segmentationreduced.png',\n",
              " 'ISIC_0000105_segmentation_final_size.png',\n",
              " 'ISIC_0000105_segmentation_final_size2.png',\n",
              " 'ISIC_0000107_segmentation.png',\n",
              " 'ISIC_0000107_segmentationfinal_size.png',\n",
              " 'ISIC_0000107_segmentationreduced.png',\n",
              " 'ISIC_0000107_segmentation_final_size.png',\n",
              " 'ISIC_0000107_segmentation_final_size2.png',\n",
              " 'ISIC_0000108_segmentation.png',\n",
              " 'ISIC_0000108_segmentationfinal_size.png',\n",
              " 'ISIC_0000108_segmentationreduced.png',\n",
              " 'ISIC_0000108_segmentation_final_size.png',\n",
              " 'ISIC_0000108_segmentation_final_size2.png',\n",
              " 'ISIC_0000109_segmentation.png',\n",
              " 'ISIC_0000109_segmentationfinal_size.png',\n",
              " 'ISIC_0000109_segmentationreduced.png',\n",
              " 'ISIC_0000109_segmentation_final_size.png',\n",
              " 'ISIC_0000109_segmentation_final_size2.png',\n",
              " 'ISIC_0000110_segmentation.png',\n",
              " 'ISIC_0000110_segmentationfinal_size.png',\n",
              " 'ISIC_0000110_segmentationreduced.png',\n",
              " 'ISIC_0000110_segmentation_final_size.png',\n",
              " 'ISIC_0000110_segmentation_final_size2.png',\n",
              " 'ISIC_0000111_segmentation.png',\n",
              " 'ISIC_0000111_segmentationfinal_size.png',\n",
              " 'ISIC_0000111_segmentationreduced.png',\n",
              " 'ISIC_0000111_segmentation_final_size.png',\n",
              " 'ISIC_0000111_segmentation_final_size2.png',\n",
              " 'ISIC_0000112_segmentation.png',\n",
              " 'ISIC_0000112_segmentationfinal_size.png',\n",
              " 'ISIC_0000112_segmentationreduced.png',\n",
              " 'ISIC_0000112_segmentation_final_size.png',\n",
              " 'ISIC_0000112_segmentation_final_size2.png',\n",
              " 'ISIC_0000113_segmentation.png',\n",
              " 'ISIC_0000113_segmentationfinal_size.png',\n",
              " 'ISIC_0000113_segmentationreduced.png',\n",
              " 'ISIC_0000113_segmentation_final_size.png',\n",
              " 'ISIC_0000113_segmentation_final_size2.png',\n",
              " 'ISIC_0000115_segmentation.png',\n",
              " 'ISIC_0000115_segmentationfinal_size.png',\n",
              " 'ISIC_0000115_segmentationreduced.png',\n",
              " 'ISIC_0000115_segmentation_final_size.png',\n",
              " 'ISIC_0000115_segmentation_final_size2.png',\n",
              " 'ISIC_0000116_segmentation.png',\n",
              " 'ISIC_0000116_segmentationfinal_size.png',\n",
              " 'ISIC_0000116_segmentationreduced.png',\n",
              " 'ISIC_0000116_segmentation_final_size.png',\n",
              " 'ISIC_0000116_segmentation_final_size2.png',\n",
              " 'ISIC_0000117_segmentation.png',\n",
              " 'ISIC_0000117_segmentationfinal_size.png',\n",
              " 'ISIC_0000117_segmentationreduced.png',\n",
              " 'ISIC_0000117_segmentation_final_size.png',\n",
              " 'ISIC_0000117_segmentation_final_size2.png',\n",
              " 'ISIC_0000119_segmentation.png',\n",
              " 'ISIC_0000119_segmentationfinal_size.png',\n",
              " 'ISIC_0000119_segmentationreduced.png',\n",
              " 'ISIC_0000119_segmentation_final_size.png',\n",
              " 'ISIC_0000119_segmentation_final_size2.png',\n",
              " 'ISIC_0000120_segmentation.png',\n",
              " 'ISIC_0000120_segmentationfinal_size.png',\n",
              " 'ISIC_0000120_segmentationreduced.png',\n",
              " 'ISIC_0000120_segmentation_final_size.png',\n",
              " 'ISIC_0000120_segmentation_final_size2.png',\n",
              " 'ISIC_0000121_segmentation.png',\n",
              " 'ISIC_0000121_segmentationfinal_size.png',\n",
              " 'ISIC_0000121_segmentationreduced.png',\n",
              " 'ISIC_0000121_segmentation_final_size.png',\n",
              " 'ISIC_0000121_segmentation_final_size2.png',\n",
              " 'ISIC_0000122_segmentation.png',\n",
              " 'ISIC_0000122_segmentationfinal_size.png',\n",
              " 'ISIC_0000122_segmentationreduced.png',\n",
              " 'ISIC_0000122_segmentation_final_size.png',\n",
              " 'ISIC_0000122_segmentation_final_size2.png',\n",
              " 'ISIC_0000123_segmentation.png',\n",
              " 'ISIC_0000123_segmentationfinal_size.png',\n",
              " 'ISIC_0000123_segmentationreduced.png',\n",
              " 'ISIC_0000123_segmentation_final_size.png',\n",
              " 'ISIC_0000123_segmentation_final_size2.png',\n",
              " 'ISIC_0000124_segmentation.png',\n",
              " 'ISIC_0000124_segmentationfinal_size.png',\n",
              " 'ISIC_0000124_segmentationreduced.png',\n",
              " 'ISIC_0000124_segmentation_final_size.png',\n",
              " 'ISIC_0000124_segmentation_final_size2.png',\n",
              " 'ISIC_0000125_segmentation.png',\n",
              " 'ISIC_0000125_segmentationfinal_size.png',\n",
              " 'ISIC_0000125_segmentationreduced.png',\n",
              " 'ISIC_0000125_segmentation_final_size.png',\n",
              " 'ISIC_0000125_segmentation_final_size2.png',\n",
              " 'ISIC_0000126_segmentation.png',\n",
              " 'ISIC_0000126_segmentationfinal_size.png',\n",
              " 'ISIC_0000126_segmentationreduced.png',\n",
              " 'ISIC_0000126_segmentation_final_size.png',\n",
              " 'ISIC_0000126_segmentation_final_size2.png',\n",
              " 'ISIC_0000127_segmentation.png',\n",
              " 'ISIC_0000127_segmentationfinal_size.png',\n",
              " 'ISIC_0000127_segmentationreduced.png',\n",
              " 'ISIC_0000127_segmentation_final_size.png',\n",
              " 'ISIC_0000127_segmentation_final_size2.png',\n",
              " 'ISIC_0000128_segmentation.png',\n",
              " 'ISIC_0000128_segmentationfinal_size.png',\n",
              " 'ISIC_0000128_segmentationreduced.png',\n",
              " 'ISIC_0000128_segmentation_final_size.png',\n",
              " 'ISIC_0000128_segmentation_final_size2.png',\n",
              " 'ISIC_0000129_segmentation.png',\n",
              " 'ISIC_0000129_segmentationfinal_size.png',\n",
              " 'ISIC_0000129_segmentationreduced.png',\n",
              " 'ISIC_0000129_segmentation_final_size.png',\n",
              " 'ISIC_0000129_segmentation_final_size2.png',\n",
              " 'ISIC_0000131_segmentation.png',\n",
              " 'ISIC_0000131_segmentationfinal_size.png',\n",
              " 'ISIC_0000131_segmentationreduced.png',\n",
              " 'ISIC_0000131_segmentation_final_size.png',\n",
              " 'ISIC_0000131_segmentation_final_size2.png',\n",
              " 'ISIC_0000132_segmentation.png',\n",
              " 'ISIC_0000132_segmentationfinal_size.png',\n",
              " 'ISIC_0000132_segmentationreduced.png',\n",
              " 'ISIC_0000132_segmentation_final_size.png',\n",
              " 'ISIC_0000132_segmentation_final_size2.png',\n",
              " 'ISIC_0000133_segmentation.png',\n",
              " 'ISIC_0000133_segmentationfinal_size.png',\n",
              " 'ISIC_0000133_segmentationreduced.png',\n",
              " 'ISIC_0000133_segmentation_final_size.png',\n",
              " 'ISIC_0000133_segmentation_final_size2.png',\n",
              " 'ISIC_0000134_segmentation.png',\n",
              " 'ISIC_0000134_segmentationfinal_size.png',\n",
              " 'ISIC_0000134_segmentationreduced.png',\n",
              " 'ISIC_0000134_segmentation_final_size.png',\n",
              " 'ISIC_0000134_segmentation_final_size2.png',\n",
              " 'ISIC_0000135_segmentation.png',\n",
              " 'ISIC_0000135_segmentationfinal_size.png',\n",
              " 'ISIC_0000135_segmentationreduced.png',\n",
              " 'ISIC_0000135_segmentation_final_size.png',\n",
              " 'ISIC_0000135_segmentation_final_size2.png',\n",
              " 'ISIC_0000136_segmentation.png',\n",
              " 'ISIC_0000136_segmentationfinal_size.png',\n",
              " 'ISIC_0000136_segmentationreduced.png',\n",
              " 'ISIC_0000136_segmentation_final_size.png',\n",
              " 'ISIC_0000136_segmentation_final_size2.png',\n",
              " 'ISIC_0000137_segmentation.png',\n",
              " 'ISIC_0000137_segmentationfinal_size.png',\n",
              " 'ISIC_0000137_segmentationreduced.png',\n",
              " 'ISIC_0000137_segmentation_final_size.png',\n",
              " 'ISIC_0000137_segmentation_final_size2.png',\n",
              " 'ISIC_0000138_segmentation.png',\n",
              " 'ISIC_0000138_segmentationfinal_size.png',\n",
              " 'ISIC_0000138_segmentationreduced.png',\n",
              " 'ISIC_0000138_segmentation_final_size.png',\n",
              " 'ISIC_0000138_segmentation_final_size2.png',\n",
              " 'ISIC_0000139_segmentation.png',\n",
              " 'ISIC_0000139_segmentationfinal_size.png',\n",
              " 'ISIC_0000139_segmentationreduced.png',\n",
              " 'ISIC_0000139_segmentation_final_size.png',\n",
              " 'ISIC_0000139_segmentation_final_size2.png',\n",
              " 'ISIC_0000140_segmentation.png',\n",
              " 'ISIC_0000140_segmentationfinal_size.png',\n",
              " 'ISIC_0000140_segmentationreduced.png',\n",
              " 'ISIC_0000140_segmentation_final_size.png',\n",
              " 'ISIC_0000140_segmentation_final_size2.png',\n",
              " 'ISIC_0000141_segmentation.png',\n",
              " 'ISIC_0000141_segmentationfinal_size.png',\n",
              " 'ISIC_0000141_segmentationreduced.png',\n",
              " 'ISIC_0000141_segmentation_final_size.png',\n",
              " 'ISIC_0000141_segmentation_final_size2.png',\n",
              " 'ISIC_0000142_segmentation.png',\n",
              " 'ISIC_0000142_segmentationfinal_size.png',\n",
              " 'ISIC_0000142_segmentationreduced.png',\n",
              " 'ISIC_0000142_segmentation_final_size.png',\n",
              " 'ISIC_0000142_segmentation_final_size2.png',\n",
              " 'ISIC_0000143_segmentation.png',\n",
              " 'ISIC_0000143_segmentationfinal_size.png',\n",
              " 'ISIC_0000143_segmentationreduced.png',\n",
              " 'ISIC_0000143_segmentation_final_size.png',\n",
              " 'ISIC_0000143_segmentation_final_size2.png',\n",
              " 'ISIC_0000145_segmentation.png',\n",
              " 'ISIC_0000145_segmentationfinal_size.png',\n",
              " 'ISIC_0000145_segmentationreduced.png',\n",
              " 'ISIC_0000145_segmentation_final_size.png',\n",
              " 'ISIC_0000145_segmentation_final_size2.png',\n",
              " 'ISIC_0000146_segmentation.png',\n",
              " 'ISIC_0000146_segmentationfinal_size.png',\n",
              " 'ISIC_0000146_segmentationreduced.png',\n",
              " 'ISIC_0000146_segmentation_final_size.png',\n",
              " 'ISIC_0000146_segmentation_final_size2.png',\n",
              " 'ISIC_0000147_segmentation.png',\n",
              " 'ISIC_0000147_segmentationfinal_size.png',\n",
              " 'ISIC_0000147_segmentationreduced.png',\n",
              " 'ISIC_0000147_segmentation_final_size.png',\n",
              " 'ISIC_0000147_segmentation_final_size2.png',\n",
              " 'ISIC_0000148_segmentation.png',\n",
              " 'ISIC_0000148_segmentationfinal_size.png',\n",
              " 'ISIC_0000148_segmentationreduced.png',\n",
              " 'ISIC_0000148_segmentation_final_size.png',\n",
              " 'ISIC_0000148_segmentation_final_size2.png',\n",
              " 'ISIC_0000149_segmentation.png',\n",
              " 'ISIC_0000149_segmentationfinal_size.png',\n",
              " 'ISIC_0000149_segmentationreduced.png',\n",
              " 'ISIC_0000149_segmentation_final_size.png',\n",
              " 'ISIC_0000149_segmentation_final_size2.png',\n",
              " 'ISIC_0000150_segmentation.png',\n",
              " 'ISIC_0000150_segmentationfinal_size.png',\n",
              " 'ISIC_0000150_segmentationreduced.png',\n",
              " 'ISIC_0000150_segmentation_final_size.png',\n",
              " 'ISIC_0000150_segmentation_final_size2.png',\n",
              " 'ISIC_0000151_segmentation.png',\n",
              " 'ISIC_0000151_segmentationfinal_size.png',\n",
              " 'ISIC_0000151_segmentationreduced.png',\n",
              " 'ISIC_0000151_segmentation_final_size.png',\n",
              " 'ISIC_0000151_segmentation_final_size2.png',\n",
              " 'ISIC_0000152_segmentation.png',\n",
              " 'ISIC_0000152_segmentationfinal_size.png',\n",
              " 'ISIC_0000152_segmentationreduced.png',\n",
              " 'ISIC_0000152_segmentation_final_size.png',\n",
              " 'ISIC_0000152_segmentation_final_size2.png',\n",
              " 'ISIC_0000153_segmentation.png',\n",
              " 'ISIC_0000153_segmentationfinal_size.png',\n",
              " 'ISIC_0000153_segmentationreduced.png',\n",
              " 'ISIC_0000153_segmentation_final_size.png',\n",
              " 'ISIC_0000153_segmentation_final_size2.png',\n",
              " 'ISIC_0000154_segmentation.png',\n",
              " 'ISIC_0000154_segmentationfinal_size.png',\n",
              " 'ISIC_0000154_segmentationreduced.png',\n",
              " 'ISIC_0000154_segmentation_final_size.png',\n",
              " 'ISIC_0000154_segmentation_final_size2.png',\n",
              " 'ISIC_0000155_segmentation.png',\n",
              " 'ISIC_0000155_segmentationfinal_size.png',\n",
              " 'ISIC_0000155_segmentationreduced.png',\n",
              " 'ISIC_0000155_segmentation_final_size.png',\n",
              " 'ISIC_0000155_segmentation_final_size2.png',\n",
              " 'ISIC_0000156_segmentation.png',\n",
              " 'ISIC_0000156_segmentationfinal_size.png',\n",
              " 'ISIC_0000156_segmentationreduced.png',\n",
              " 'ISIC_0000156_segmentation_final_size.png',\n",
              " 'ISIC_0000156_segmentation_final_size2.png',\n",
              " 'ISIC_0000157_segmentation.png',\n",
              " 'ISIC_0000157_segmentationfinal_size.png',\n",
              " 'ISIC_0000157_segmentationreduced.png',\n",
              " 'ISIC_0000157_segmentation_final_size.png',\n",
              " 'ISIC_0000157_segmentation_final_size2.png',\n",
              " 'ISIC_0000159_segmentation.png',\n",
              " 'ISIC_0000159_segmentationfinal_size.png',\n",
              " 'ISIC_0000159_segmentationreduced.png',\n",
              " 'ISIC_0000159_segmentation_final_size.png',\n",
              " 'ISIC_0000159_segmentation_final_size2.png',\n",
              " 'ISIC_0000160_segmentation.png',\n",
              " 'ISIC_0000160_segmentationfinal_size.png',\n",
              " 'ISIC_0000160_segmentationreduced.png',\n",
              " 'ISIC_0000160_segmentation_final_size.png',\n",
              " 'ISIC_0000160_segmentation_final_size2.png',\n",
              " 'ISIC_0000161_segmentation.png',\n",
              " 'ISIC_0000161_segmentationfinal_size.png',\n",
              " 'ISIC_0000161_segmentationreduced.png',\n",
              " 'ISIC_0000161_segmentation_final_size.png',\n",
              " 'ISIC_0000161_segmentation_final_size2.png',\n",
              " 'ISIC_0000162_segmentation.png',\n",
              " 'ISIC_0000162_segmentationfinal_size.png',\n",
              " 'ISIC_0000162_segmentationreduced.png',\n",
              " 'ISIC_0000162_segmentation_final_size.png',\n",
              " 'ISIC_0000162_segmentation_final_size2.png',\n",
              " 'ISIC_0000163_segmentation.png',\n",
              " 'ISIC_0000163_segmentationfinal_size.png',\n",
              " 'ISIC_0000163_segmentationreduced.png',\n",
              " 'ISIC_0000163_segmentation_final_size.png',\n",
              " 'ISIC_0000163_segmentation_final_size2.png',\n",
              " 'ISIC_0000164_segmentation.png',\n",
              " 'ISIC_0000164_segmentationfinal_size.png',\n",
              " 'ISIC_0000164_segmentationreduced.png',\n",
              " 'ISIC_0000164_segmentation_final_size.png',\n",
              " 'ISIC_0000164_segmentation_final_size2.png',\n",
              " 'ISIC_0000165_segmentation.png',\n",
              " 'ISIC_0000165_segmentationfinal_size.png',\n",
              " 'ISIC_0000165_segmentationreduced.png',\n",
              " 'ISIC_0000165_segmentation_final_size.png',\n",
              " 'ISIC_0000165_segmentation_final_size2.png',\n",
              " 'ISIC_0000166_segmentation.png',\n",
              " 'ISIC_0000166_segmentationfinal_size.png',\n",
              " 'ISIC_0000166_segmentationreduced.png',\n",
              " 'ISIC_0000166_segmentation_final_size.png',\n",
              " 'ISIC_0000166_segmentation_final_size2.png',\n",
              " 'ISIC_0000167_segmentation.png',\n",
              " 'ISIC_0000167_segmentationfinal_size.png',\n",
              " 'ISIC_0000167_segmentationreduced.png',\n",
              " 'ISIC_0000167_segmentation_final_size.png',\n",
              " 'ISIC_0000167_segmentation_final_size2.png',\n",
              " 'ISIC_0000169_segmentation.png',\n",
              " 'ISIC_0000169_segmentationfinal_size.png',\n",
              " 'ISIC_0000169_segmentationreduced.png',\n",
              " 'ISIC_0000169_segmentation_final_size.png',\n",
              " 'ISIC_0000169_segmentation_final_size2.png',\n",
              " 'ISIC_0000170_segmentation.png',\n",
              " 'ISIC_0000170_segmentationfinal_size.png',\n",
              " 'ISIC_0000170_segmentationreduced.png',\n",
              " 'ISIC_0000170_segmentation_final_size.png',\n",
              " 'ISIC_0000170_segmentation_final_size2.png',\n",
              " 'ISIC_0000171_segmentation.png',\n",
              " 'ISIC_0000171_segmentationfinal_size.png',\n",
              " 'ISIC_0000171_segmentationreduced.png',\n",
              " 'ISIC_0000171_segmentation_final_size.png',\n",
              " 'ISIC_0000171_segmentation_final_size2.png',\n",
              " 'ISIC_0000172_segmentation.png',\n",
              " 'ISIC_0000172_segmentationfinal_size.png',\n",
              " 'ISIC_0000172_segmentationreduced.png',\n",
              " 'ISIC_0000172_segmentation_final_size.png',\n",
              " 'ISIC_0000172_segmentation_final_size2.png',\n",
              " 'ISIC_0000173_segmentation.png',\n",
              " 'ISIC_0000173_segmentationfinal_size.png',\n",
              " 'ISIC_0000173_segmentationreduced.png',\n",
              " 'ISIC_0000173_segmentation_final_size.png',\n",
              " 'ISIC_0000173_segmentation_final_size2.png',\n",
              " 'ISIC_0000175_segmentation.png',\n",
              " 'ISIC_0000175_segmentationfinal_size.png',\n",
              " 'ISIC_0000175_segmentationreduced.png',\n",
              " 'ISIC_0000175_segmentation_final_size.png',\n",
              " 'ISIC_0000175_segmentation_final_size2.png',\n",
              " 'ISIC_0000176_segmentation.png',\n",
              " 'ISIC_0000176_segmentationfinal_size.png',\n",
              " 'ISIC_0000176_segmentationreduced.png',\n",
              " 'ISIC_0000176_segmentation_final_size.png',\n",
              " 'ISIC_0000176_segmentation_final_size2.png',\n",
              " 'ISIC_0000177_segmentation.png',\n",
              " 'ISIC_0000177_segmentationfinal_size.png',\n",
              " 'ISIC_0000177_segmentationreduced.png',\n",
              " 'ISIC_0000177_segmentation_final_size.png',\n",
              " 'ISIC_0000177_segmentation_final_size2.png',\n",
              " 'ISIC_0000179_segmentation.png',\n",
              " 'ISIC_0000179_segmentationfinal_size.png',\n",
              " 'ISIC_0000179_segmentationreduced.png',\n",
              " 'ISIC_0000179_segmentation_final_size.png',\n",
              " 'ISIC_0000179_segmentation_final_size2.png',\n",
              " 'ISIC_0000181_segmentation.png',\n",
              " 'ISIC_0000181_segmentationfinal_size.png',\n",
              " 'ISIC_0000181_segmentationreduced.png',\n",
              " 'ISIC_0000181_segmentation_final_size.png',\n",
              " 'ISIC_0000181_segmentation_final_size2.png',\n",
              " 'ISIC_0000182_segmentation.png',\n",
              " 'ISIC_0000182_segmentationfinal_size.png',\n",
              " 'ISIC_0000182_segmentationreduced.png',\n",
              " 'ISIC_0000182_segmentation_final_size.png',\n",
              " 'ISIC_0000182_segmentation_final_size2.png',\n",
              " 'ISIC_0000183_segmentation.png',\n",
              " 'ISIC_0000183_segmentationfinal_size.png',\n",
              " 'ISIC_0000183_segmentationreduced.png',\n",
              " 'ISIC_0000183_segmentation_final_size.png',\n",
              " 'ISIC_0000183_segmentation_final_size2.png',\n",
              " 'ISIC_0000184_segmentation.png',\n",
              " 'ISIC_0000184_segmentationfinal_size.png',\n",
              " 'ISIC_0000184_segmentationreduced.png',\n",
              " 'ISIC_0000184_segmentation_final_size.png',\n",
              " 'ISIC_0000184_segmentation_final_size2.png',\n",
              " 'ISIC_0000185_segmentation.png',\n",
              " 'ISIC_0000185_segmentationfinal_size.png',\n",
              " 'ISIC_0000185_segmentationreduced.png',\n",
              " 'ISIC_0000185_segmentation_final_size.png',\n",
              " 'ISIC_0000185_segmentation_final_size2.png',\n",
              " 'ISIC_0000186_segmentation.png',\n",
              " 'ISIC_0000186_segmentationfinal_size.png',\n",
              " 'ISIC_0000186_segmentationreduced.png',\n",
              " 'ISIC_0000186_segmentation_final_size.png',\n",
              " 'ISIC_0000186_segmentation_final_size2.png',\n",
              " 'ISIC_0000187_segmentation.png',\n",
              " 'ISIC_0000187_segmentationfinal_size.png',\n",
              " 'ISIC_0000187_segmentationreduced.png',\n",
              " 'ISIC_0000187_segmentation_final_size.png',\n",
              " 'ISIC_0000187_segmentation_final_size2.png',\n",
              " 'ISIC_0000188_segmentation.png',\n",
              " 'ISIC_0000188_segmentationfinal_size.png',\n",
              " 'ISIC_0000188_segmentationreduced.png',\n",
              " 'ISIC_0000188_segmentation_final_size.png',\n",
              " 'ISIC_0000188_segmentation_final_size2.png',\n",
              " 'ISIC_0000189_segmentation.png',\n",
              " 'ISIC_0000189_segmentationfinal_size.png',\n",
              " 'ISIC_0000189_segmentationreduced.png',\n",
              " 'ISIC_0000189_segmentation_final_size.png',\n",
              " 'ISIC_0000189_segmentation_final_size2.png',\n",
              " 'ISIC_0000190_segmentation.png',\n",
              " 'ISIC_0000190_segmentationfinal_size.png',\n",
              " 'ISIC_0000190_segmentationreduced.png',\n",
              " 'ISIC_0000190_segmentation_final_size.png',\n",
              " 'ISIC_0000190_segmentation_final_size2.png',\n",
              " 'ISIC_0000191_segmentation.png',\n",
              " 'ISIC_0000191_segmentationfinal_size.png',\n",
              " 'ISIC_0000191_segmentationreduced.png',\n",
              " 'ISIC_0000191_segmentation_final_size.png',\n",
              " 'ISIC_0000191_segmentation_final_size2.png',\n",
              " 'ISIC_0000192_segmentation.png',\n",
              " 'ISIC_0000192_segmentationfinal_size.png',\n",
              " 'ISIC_0000192_segmentationreduced.png',\n",
              " 'ISIC_0000192_segmentation_final_size.png',\n",
              " 'ISIC_0000192_segmentation_final_size2.png',\n",
              " 'ISIC_0000193_segmentation.png',\n",
              " 'ISIC_0000193_segmentationfinal_size.png',\n",
              " 'ISIC_0000193_segmentationreduced.png',\n",
              " 'ISIC_0000193_segmentation_final_size.png',\n",
              " 'ISIC_0000193_segmentation_final_size2.png',\n",
              " 'ISIC_0000196_segmentation.png',\n",
              " 'ISIC_0000196_segmentationfinal_size.png',\n",
              " 'ISIC_0000196_segmentationreduced.png',\n",
              " 'ISIC_0000196_segmentation_final_size.png',\n",
              " 'ISIC_0000196_segmentation_final_size2.png',\n",
              " 'ISIC_0000197_segmentation.png',\n",
              " 'ISIC_0000197_segmentationfinal_size.png',\n",
              " 'ISIC_0000197_segmentationreduced.png',\n",
              " 'ISIC_0000197_segmentation_final_size.png',\n",
              " 'ISIC_0000197_segmentation_final_size2.png',\n",
              " 'ISIC_0000198_segmentation.png',\n",
              " 'ISIC_0000198_segmentationfinal_size.png',\n",
              " 'ISIC_0000198_segmentationreduced.png',\n",
              " 'ISIC_0000198_segmentation_final_size.png',\n",
              " 'ISIC_0000198_segmentation_final_size2.png',\n",
              " 'ISIC_0000199_segmentation.png',\n",
              " 'ISIC_0000199_segmentationfinal_size.png',\n",
              " 'ISIC_0000199_segmentationreduced.png',\n",
              " 'ISIC_0000199_segmentation_final_size.png',\n",
              " 'ISIC_0000199_segmentation_final_size2.png',\n",
              " 'ISIC_0000200_segmentation.png',\n",
              " 'ISIC_0000200_segmentationfinal_size.png',\n",
              " 'ISIC_0000200_segmentationreduced.png',\n",
              " 'ISIC_0000200_segmentation_final_size.png',\n",
              " 'ISIC_0000200_segmentation_final_size2.png',\n",
              " 'ISIC_0000201_segmentation.png',\n",
              " 'ISIC_0000201_segmentationfinal_size.png',\n",
              " 'ISIC_0000201_segmentationreduced.png',\n",
              " 'ISIC_0000201_segmentation_final_size.png',\n",
              " 'ISIC_0000201_segmentation_final_size2.png',\n",
              " 'ISIC_0000202_segmentation.png',\n",
              " 'ISIC_0000202_segmentationfinal_size.png',\n",
              " 'ISIC_0000202_segmentationreduced.png',\n",
              " 'ISIC_0000202_segmentation_final_size.png',\n",
              " 'ISIC_0000202_segmentation_final_size2.png',\n",
              " 'ISIC_0000203_segmentation.png',\n",
              " 'ISIC_0000203_segmentationfinal_size.png',\n",
              " 'ISIC_0000203_segmentationreduced.png',\n",
              " 'ISIC_0000203_segmentation_final_size.png',\n",
              " 'ISIC_0000203_segmentation_final_size2.png',\n",
              " 'ISIC_0000204_segmentation.png',\n",
              " 'ISIC_0000204_segmentationfinal_size.png',\n",
              " 'ISIC_0000204_segmentationreduced.png',\n",
              " 'ISIC_0000204_segmentation_final_size.png',\n",
              " 'ISIC_0000204_segmentation_final_size2.png',\n",
              " 'ISIC_0000205_segmentation.png',\n",
              " 'ISIC_0000205_segmentationfinal_size.png',\n",
              " 'ISIC_0000205_segmentationreduced.png',\n",
              " 'ISIC_0000205_segmentation_final_size.png',\n",
              " 'ISIC_0000205_segmentation_final_size2.png',\n",
              " 'ISIC_0000206_segmentation.png',\n",
              " 'ISIC_0000206_segmentationfinal_size.png',\n",
              " 'ISIC_0000206_segmentationreduced.png',\n",
              " 'ISIC_0000206_segmentation_final_size.png',\n",
              " 'ISIC_0000206_segmentation_final_size2.png',\n",
              " 'ISIC_0000207_segmentation.png',\n",
              " 'ISIC_0000207_segmentationfinal_size.png',\n",
              " 'ISIC_0000207_segmentationreduced.png',\n",
              " 'ISIC_0000207_segmentation_final_size.png',\n",
              " 'ISIC_0000207_segmentation_final_size2.png',\n",
              " 'ISIC_0000208_segmentation.png',\n",
              " 'ISIC_0000208_segmentationfinal_size.png',\n",
              " 'ISIC_0000208_segmentationreduced.png',\n",
              " 'ISIC_0000208_segmentation_final_size.png',\n",
              " 'ISIC_0000208_segmentation_final_size2.png',\n",
              " 'ISIC_0000209_segmentation.png',\n",
              " 'ISIC_0000209_segmentationfinal_size.png',\n",
              " 'ISIC_0000209_segmentationreduced.png',\n",
              " 'ISIC_0000209_segmentation_final_size.png',\n",
              " 'ISIC_0000209_segmentation_final_size2.png',\n",
              " 'ISIC_0000210_segmentation.png',\n",
              " 'ISIC_0000210_segmentationfinal_size.png',\n",
              " 'ISIC_0000210_segmentationreduced.png',\n",
              " 'ISIC_0000210_segmentation_final_size.png',\n",
              " 'ISIC_0000210_segmentation_final_size2.png',\n",
              " 'ISIC_0000211_segmentation.png',\n",
              " 'ISIC_0000211_segmentationfinal_size.png',\n",
              " 'ISIC_0000211_segmentationreduced.png',\n",
              " 'ISIC_0000211_segmentation_final_size.png',\n",
              " 'ISIC_0000211_segmentation_final_size2.png',\n",
              " 'ISIC_0000212_segmentation.png',\n",
              " 'ISIC_0000212_segmentationfinal_size.png',\n",
              " 'ISIC_0000212_segmentationreduced.png',\n",
              " 'ISIC_0000212_segmentation_final_size.png',\n",
              " 'ISIC_0000212_segmentation_final_size2.png',\n",
              " 'ISIC_0000213_segmentation.png',\n",
              " 'ISIC_0000213_segmentationfinal_size.png',\n",
              " 'ISIC_0000213_segmentationreduced.png',\n",
              " 'ISIC_0000213_segmentation_final_size.png',\n",
              " 'ISIC_0000213_segmentation_final_size2.png',\n",
              " 'ISIC_0000214_segmentation.png',\n",
              " 'ISIC_0000214_segmentationfinal_size.png',\n",
              " 'ISIC_0000214_segmentationreduced.png',\n",
              " 'ISIC_0000214_segmentation_final_size.png',\n",
              " 'ISIC_0000214_segmentation_final_size2.png',\n",
              " 'ISIC_0000215_segmentation.png',\n",
              " 'ISIC_0000215_segmentationfinal_size.png',\n",
              " 'ISIC_0000215_segmentationreduced.png',\n",
              " 'ISIC_0000215_segmentation_final_size.png',\n",
              " 'ISIC_0000215_segmentation_final_size2.png',\n",
              " 'ISIC_0000216_segmentation.png',\n",
              " 'ISIC_0000216_segmentationfinal_size.png',\n",
              " 'ISIC_0000216_segmentationreduced.png',\n",
              " 'ISIC_0000216_segmentation_final_size.png',\n",
              " 'ISIC_0000216_segmentation_final_size2.png',\n",
              " 'ISIC_0000217_segmentation.png',\n",
              " 'ISIC_0000217_segmentationfinal_size.png',\n",
              " 'ISIC_0000217_segmentationreduced.png',\n",
              " 'ISIC_0000217_segmentation_final_size.png',\n",
              " 'ISIC_0000217_segmentation_final_size2.png',\n",
              " 'ISIC_0000218_segmentation.png',\n",
              " 'ISIC_0000218_segmentationfinal_size.png',\n",
              " 'ISIC_0000218_segmentationreduced.png',\n",
              " 'ISIC_0000218_segmentation_final_size.png',\n",
              " 'ISIC_0000218_segmentation_final_size2.png',\n",
              " 'ISIC_0000219_segmentation.png',\n",
              " 'ISIC_0000219_segmentationfinal_size.png',\n",
              " 'ISIC_0000219_segmentationreduced.png',\n",
              " 'ISIC_0000219_segmentation_final_size.png',\n",
              " 'ISIC_0000219_segmentation_final_size2.png',\n",
              " 'ISIC_0000220_segmentation.png',\n",
              " 'ISIC_0000220_segmentationfinal_size.png',\n",
              " 'ISIC_0000220_segmentationreduced.png',\n",
              " 'ISIC_0000220_segmentation_final_size.png',\n",
              " ...]"
            ]
          },
          "metadata": {
            "tags": []
          },
          "execution_count": 21
        }
      ]
    },
    {
      "cell_type": "code",
      "metadata": {
        "id": "hK4yqeJafNzD",
        "colab_type": "code",
        "colab": {}
      },
      "source": [
        "filename = filenames[3]\n",
        "filepath = os.path.join(root, filename)\n",
        "seg = ndimage.imread(filepath, mode=\"L\")"
      ],
      "execution_count": 0,
      "outputs": []
    },
    {
      "cell_type": "code",
      "metadata": {
        "id": "ywAIbXWifNzF",
        "colab_type": "code",
        "outputId": "7d09497f-c29d-4372-b06b-2ecfe11d289b",
        "colab": {}
      },
      "source": [
        "seg.shape"
      ],
      "execution_count": 0,
      "outputs": [
        {
          "output_type": "execute_result",
          "data": {
            "text/plain": [
              "(21, 28)"
            ]
          },
          "metadata": {
            "tags": []
          },
          "execution_count": 23
        }
      ]
    },
    {
      "cell_type": "code",
      "metadata": {
        "id": "WNLxVopWfNzI",
        "colab_type": "code",
        "outputId": "1c167649-1c67-4f50-94ba-33341092df7e",
        "colab": {}
      },
      "source": [
        "image = segs[2593,:,:]\n",
        "plt.imshow(image)\n",
        "plt.show()"
      ],
      "execution_count": 0,
      "outputs": [
        {
          "output_type": "display_data",
          "data": {
            "image/png": "[encoded data removed]",
            "text/plain": [
              "<matplotlib.figure.Figure at 0x20e7207bda0>"
            ]
          },
          "metadata": {
            "tags": []
          }
        }
      ]
    },
    {
      "cell_type": "code",
      "metadata": {
        "id": "mR6OM_mcfNzK",
        "colab_type": "code",
        "outputId": "ee34bccd-f74f-478e-d46a-0858c109972c",
        "colab": {}
      },
      "source": [
        "image = image = ndimage.imread(filepath, mode=\"RGB\")\n",
        "plt.imshow(image)\n",
        "plt.show()"
      ],
      "execution_count": 0,
      "outputs": [
        {
          "output_type": "display_data",
          "data": {
            "image/png": "[encoded data removed]",
            "text/plain": [
              "<matplotlib.figure.Figure at 0x20e720ffdd8>"
            ]
          },
          "metadata": {
            "tags": []
          }
        }
      ]
    },
    {
      "cell_type": "markdown",
      "metadata": {
        "id": "J8N4Xlk9fNzN",
        "colab_type": "text"
      },
      "source": [
        "### Helper Functions"
      ]
    },
    {
      "cell_type": "markdown",
      "metadata": {
        "id": "IS6Tms7_fNzN",
        "colab_type": "text"
      },
      "source": [
        "Function to help intialize random weights for fully connected or convolutional layers, we leave the shape attribute as a parameter for this."
      ]
    },
    {
      "cell_type": "code",
      "metadata": {
        "collapsed": true,
        "id": "nwxTUCjRfNzO",
        "colab_type": "code",
        "colab": {}
      },
      "source": [
        "from sklearn.model_selection import train_test_split\n",
        "trainim, testim, trainlab, testlab = train_test_split(images, segs, test_size = 0.3) #this is randomized each time the program is started and run from scratch"
      ],
      "execution_count": 0,
      "outputs": []
    },
    {
      "cell_type": "code",
      "metadata": {
        "id": "gIxY01G3fNzQ",
        "colab_type": "code",
        "outputId": "1cfe37ec-38ba-49bc-c6d3-e3737cc332b7",
        "colab": {}
      },
      "source": [
        "trainim.shape"
      ],
      "execution_count": 0,
      "outputs": [
        {
          "output_type": "execute_result",
          "data": {
            "text/plain": [
              "(5447, 96, 128, 3)"
            ]
          },
          "metadata": {
            "tags": []
          },
          "execution_count": 27
        }
      ]
    },
    {
      "cell_type": "code",
      "metadata": {
        "id": "G-zXpjhkfNzS",
        "colab_type": "code",
        "outputId": "552cc049-10c0-4ef0-f8e9-c58e63ebc3dc",
        "colab": {}
      },
      "source": [
        "np.max(testlab)"
      ],
      "execution_count": 0,
      "outputs": [
        {
          "output_type": "execute_result",
          "data": {
            "text/plain": [
              "255"
            ]
          },
          "metadata": {
            "tags": []
          },
          "execution_count": 28
        }
      ]
    },
    {
      "cell_type": "code",
      "metadata": {
        "id": "ndDyqlFhfNzU",
        "colab_type": "code",
        "outputId": "b37c937d-a936-4e52-c612-a868f14bcc54",
        "colab": {}
      },
      "source": [
        "testlab.shape"
      ],
      "execution_count": 0,
      "outputs": [
        {
          "output_type": "execute_result",
          "data": {
            "text/plain": [
              "(2335, 96, 128)"
            ]
          },
          "metadata": {
            "tags": []
          },
          "execution_count": 29
        }
      ]
    },
    {
      "cell_type": "code",
      "metadata": {
        "collapsed": true,
        "id": "x0Kb2P4tfNzX",
        "colab_type": "code",
        "colab": {}
      },
      "source": [
        "training_labels = np.around(trainlab/255)"
      ],
      "execution_count": 0,
      "outputs": []
    },
    {
      "cell_type": "code",
      "metadata": {
        "id": "4C4pwHf7fNza",
        "colab_type": "code",
        "outputId": "c0f04eb4-23ad-4ff2-8b66-b6753516a1d3",
        "colab": {}
      },
      "source": [
        "image = training_labels[5,:,:]\n",
        "plt.imshow(image)\n",
        "plt.show()"
      ],
      "execution_count": 0,
      "outputs": [
        {
          "output_type": "display_data",
          "data": {
            "image/png": "[encoded data removed]",
            "text/plain": [
              "<matplotlib.figure.Figure at 0x20e71fecf28>"
            ]
          },
          "metadata": {
            "tags": []
          }
        }
      ]
    },
    {
      "cell_type": "code",
      "metadata": {
        "collapsed": true,
        "id": "8_8a19MbfNzd",
        "colab_type": "code",
        "colab": {}
      },
      "source": [
        "class MelHelper():\n",
        "    \n",
        "    def __init__(self):\n",
        "        self.i = 0\n",
        "        \n",
        "        ####Can probably eliminate this part ####\n",
        "        \n",
        "        # Grabs a list of all the data batches for training\n",
        "        #self.all_train_batches = [data_batch1,data_batch2,data_batch3,data_batch4,data_batch5]\n",
        "        # Grabs a list of all the test batches (really just one batch)\n",
        "        #self.test_batch = [test_batch]\n",
        "        \n",
        "        ###eliminate####\n",
        "        \n",
        "        # Intialize some empty variables for later on\n",
        "        self.training_images = None\n",
        "        self.training_labels = None\n",
        "        \n",
        "        self.test_images = None\n",
        "        self.test_labels = None\n",
        "    \n",
        "    def set_up_images(self):\n",
        "        \n",
        "        print(\"Setting Up Training Images and Labels\")\n",
        "        \n",
        "        ###Not Needed####\n",
        "        # Vertically stacks the training images\n",
        "        #self.training_images = np.vstack([d[b\"data\"] for d in self.all_train_batches])  #insert images here, make sure they are \n",
        "        #vetically stacked##\n",
        "        #train_len = len(self.training_images)\n",
        "        \n",
        "        # Reshapes and normalizes training images\n",
        "        self.training_images = trainim/255   #normalize only ->replace with images with training set later\n",
        "                                #self.training_images.reshape(train_len,3,32,32).transpose(0,2,3,1)/255\n",
        "        # One hot Encodes the training labels (e.g. [0,0,0,1,0,0,0,0,0,0])\n",
        "        \n",
        "        ##May need to replace this with code that rounds a humber to 0 or 1 for the mask ##\n",
        "        self.training_labels = np.around(trainlab/255) #one_hot_encode(np.hstack([d[b\"labels\"] for d in self.all_train_batches]), 10)\n",
        "        \n",
        "        print(\"Setting Up Test Images and Labels\")\n",
        "        \n",
        "        # Vertically stacks the test images\n",
        "        #self.test_images = np.vstack([d[b\"data\"] for d in self.test_batch])\n",
        "        #test_len = len(self.test_images)\n",
        "        \n",
        "        # Reshapes and normalizes test images\n",
        "        self.test_images = testim/255 #self.test_images.reshape(test_len,3,32,32).transpose(0,2,3,1)/255\n",
        "        # One hot Encodes the test labels (e.g. [0,0,0,1,0,0,0,0,0,0])\n",
        "        self.test_labels = np.around(testlab/255).reshape(-1,96*128) #one_hot_encode(np.hstack([d[b\"labels\"] for d in self.test_batch]), 10)\n",
        "        \n",
        "    def next_batch(self, batch_size):\n",
        "        # Note that the 100 dimension in the reshape call is set by an assumed batch size of 100 - this is now a mistake\n",
        "        xtra = (self.i + batch_size) % len(self.training_images)\n",
        "        if xtra<batch_size and xtra != 0:\n",
        "            x = np.vstack((self.training_images[self.i:self.i+batch_size], self.training_images[0:xtra])) #.reshape(100,32,32,3)  #why is this necessary?\n",
        "            y = np.vstack((self.training_labels[self.i:self.i+batch_size].reshape(-1,21*28), self.training_labels[0:xtra].reshape(-1,21*28)))\n",
        "        else:\n",
        "            x = self.training_images[self.i:self.i+batch_size] #.reshape(100,32,32,3)  #why is this necessary?\n",
        "            y = self.training_labels[self.i:self.i+batch_size].reshape(-1,96*128)\n",
        "        \n",
        "        self.i = xtra \n",
        "        return x, y"
      ],
      "execution_count": 0,
      "outputs": []
    },
    {
      "cell_type": "code",
      "metadata": {
        "collapsed": true,
        "id": "LTmLVENAfNze",
        "colab_type": "code",
        "colab": {}
      },
      "source": [
        "def init_weights(shape):\n",
        "    init_random_dist = tf.truncated_normal(shape, stddev=0.1)\n",
        "    return tf.Variable(init_random_dist)"
      ],
      "execution_count": 0,
      "outputs": []
    },
    {
      "cell_type": "markdown",
      "metadata": {
        "id": "83Yh6X2mfNzg",
        "colab_type": "text"
      },
      "source": [
        "Same as init_weights, but for the biases"
      ]
    },
    {
      "cell_type": "code",
      "metadata": {
        "collapsed": true,
        "id": "Dd3vlocsfNzg",
        "colab_type": "code",
        "colab": {}
      },
      "source": [
        "def init_bias(shape):\n",
        "    init_bias_vals = tf.constant(0.1, shape=shape)\n",
        "    return tf.Variable(init_bias_vals)"
      ],
      "execution_count": 0,
      "outputs": []
    },
    {
      "cell_type": "markdown",
      "metadata": {
        "id": "EyF20ufBfNzi",
        "colab_type": "text"
      },
      "source": [
        "Create a 2D convolution using builtin conv2d from TF. From those docs:\n",
        "\n",
        "Computes a 2-D convolution given 4-D `input` and `filter` tensors.\n",
        "\n",
        "Given an input tensor of shape `[batch, in_height, in_width, in_channels]`\n",
        "and a filter / kernel tensor of shape\n",
        "`[filter_height, filter_width, in_channels, out_channels]`, this op\n",
        "performs the following:\n",
        "\n",
        "1. Flattens the filter to a 2-D matrix with shape\n",
        "   `[filter_height * filter_width * in_channels, output_channels]`.\n",
        "2. Extracts image patches from the input tensor to form a *virtual*\n",
        "   tensor of shape `[batch, out_height, out_width,\n",
        "   filter_height * filter_width * in_channels]`.\n",
        "3. For each patch, right-multiplies the filter matrix and the image patch\n",
        "   vector.\n"
      ]
    },
    {
      "cell_type": "code",
      "metadata": {
        "collapsed": true,
        "id": "fvrLH9wufNzj",
        "colab_type": "code",
        "colab": {}
      },
      "source": [
        "def conv2d(x, W):\n",
        "    return tf.nn.conv2d(x, W, strides=[1, 1, 1, 1], padding='SAME')"
      ],
      "execution_count": 0,
      "outputs": []
    },
    {
      "cell_type": "code",
      "metadata": {
        "collapsed": true,
        "id": "dofb-mrtfNzm",
        "colab_type": "code",
        "colab": {}
      },
      "source": [
        "def deconv2d(x, shape):\n",
        "    return tf.layers.conv2d_transpose(x, shape[3], shape[0:2])"
      ],
      "execution_count": 0,
      "outputs": []
    },
    {
      "cell_type": "markdown",
      "metadata": {
        "id": "MXGFwjkxfNzn",
        "colab_type": "text"
      },
      "source": [
        "Create a max pooling layer, again using built in TF functions:\n",
        "\n",
        "Performs the max pooling on the input.\n",
        "\n",
        "    Args:\n",
        "      value: A 4-D `Tensor` with shape `[batch, height, width, channels]` and\n",
        "        type `tf.float32`.\n",
        "      ksize: A list of ints that has length >= 4.  The size of the window for\n",
        "        each dimension of the input tensor.\n",
        "      strides: A list of ints that has length >= 4.  The stride of the sliding\n",
        "        window for each dimension of the input tensor.\n",
        "      padding: A string, either `'VALID'` or `'SAME'`. "
      ]
    },
    {
      "cell_type": "code",
      "metadata": {
        "collapsed": true,
        "id": "BIO9pWjXfNzp",
        "colab_type": "code",
        "colab": {}
      },
      "source": [
        "def max_pool_2by2(x):\n",
        "    return tf.nn.max_pool(x, ksize=[1, 2, 2, 1], \n",
        "                          strides=[1, 2, 2, 1], padding='SAME')"
      ],
      "execution_count": 0,
      "outputs": []
    },
    {
      "cell_type": "markdown",
      "metadata": {
        "id": "9VqEnybqfNzs",
        "colab_type": "text"
      },
      "source": [
        "Using the conv2d function, we'll return an actual convolutional layer here that uses an ReLu activation."
      ]
    },
    {
      "cell_type": "code",
      "metadata": {
        "collapsed": true,
        "id": "OS9b-naGfNzt",
        "colab_type": "code",
        "colab": {}
      },
      "source": [
        "def convolutional_layer(input_x, shape):\n",
        "    W = init_weights(shape)\n",
        "    b = init_bias([shape[3]])\n",
        "    return tf.nn.relu(conv2d(input_x, W) + b)"
      ],
      "execution_count": 0,
      "outputs": []
    },
    {
      "cell_type": "markdown",
      "metadata": {
        "id": "_0-cGJDsfNzu",
        "colab_type": "text"
      },
      "source": [
        "This is a normal fully connected layer"
      ]
    },
    {
      "cell_type": "code",
      "metadata": {
        "collapsed": true,
        "id": "w9tiw8fKfNzv",
        "colab_type": "code",
        "colab": {}
      },
      "source": [
        "def normal_full_layer(input_layer, size):\n",
        "    input_size = int(input_layer.get_shape()[1])\n",
        "    W = init_weights([input_size, size])\n",
        "    b = init_bias([size])\n",
        "    return tf.matmul(input_layer, W) + b"
      ],
      "execution_count": 0,
      "outputs": []
    },
    {
      "cell_type": "code",
      "metadata": {
        "collapsed": true,
        "id": "RoKldfkxfNzy",
        "colab_type": "code",
        "colab": {}
      },
      "source": [
        "def deconvolutional_layer(input_x, shape):\n",
        "    #W = init_weights(shape)\n",
        "    b = init_bias([shape[3]])  #draw this out to see if it makes sense\n",
        "    return tf.nn.relu(deconv2d(input_x, shape) +b)"
      ],
      "execution_count": 0,
      "outputs": []
    },
    {
      "cell_type": "markdown",
      "metadata": {
        "id": "p2rwibDxfNzz",
        "colab_type": "text"
      },
      "source": [
        "### Placeholders"
      ]
    },
    {
      "cell_type": "code",
      "metadata": {
        "collapsed": true,
        "id": "8E82SWUmfNz0",
        "colab_type": "code",
        "colab": {}
      },
      "source": [
        "x = tf.placeholder(tf.float32,shape=[None,96,128,3])  #trace the shaping of these through the code...\n"
      ],
      "execution_count": 0,
      "outputs": []
    },
    {
      "cell_type": "code",
      "metadata": {
        "collapsed": true,
        "id": "U2djuEyMfNz1",
        "colab_type": "code",
        "colab": {}
      },
      "source": [
        "y_true = tf.placeholder(tf.float32,shape=[None,96*128])  #this now has every pixel in the ground truth segmentation"
      ],
      "execution_count": 0,
      "outputs": []
    },
    {
      "cell_type": "markdown",
      "metadata": {
        "id": "IzopPGJyfNz5",
        "colab_type": "text"
      },
      "source": [
        "### Layers"
      ]
    },
    {
      "cell_type": "code",
      "metadata": {
        "collapsed": true,
        "id": "6YyKmti2fNz5",
        "colab_type": "code",
        "colab": {}
      },
      "source": [
        "x_image = tf.reshape(x,[-1,96,128,3])  #-1 infers the shape of the first dimension (here, the batch size)"
      ],
      "execution_count": 0,
      "outputs": []
    },
    {
      "cell_type": "code",
      "metadata": {
        "collapsed": true,
        "id": "B2zOibybfNz7",
        "colab_type": "code",
        "colab": {}
      },
      "source": [
        "# Using a 6by6 filter here, used 5by5 in video, you can play around with the filter size\n",
        "# You can change the 32 output, that essentially represents the amount of filters used\n",
        "# You need to pass in 32 to the next input though, the 1 comes from the original input of \n",
        "# a single image.\n",
        "convo_1 = convolutional_layer(x_image,shape=[3,3,3,16])\n",
        "convo_1_pooling = max_pool_2by2(convo_1)"
      ],
      "execution_count": 0,
      "outputs": []
    },
    {
      "cell_type": "code",
      "metadata": {
        "collapsed": true,
        "id": "Tjs326AsfNz9",
        "colab_type": "code",
        "colab": {}
      },
      "source": [
        "# Using a 6by6 filter here, used 5by5 in video, you can play around with the filter size\n",
        "# You can actually change the 64 output if you want, you can think of that as a representation\n",
        "# of the amount of 6by6 filters used.\n",
        "convo_2 = convolutional_layer(convo_1_pooling,shape=[3,3,16,16])\n",
        "convo_2_pooling = max_pool_2by2(convo_2)"
      ],
      "execution_count": 0,
      "outputs": []
    },
    {
      "cell_type": "code",
      "metadata": {
        "collapsed": true,
        "id": "ZSeZobE1fNz_",
        "colab_type": "code",
        "colab": {}
      },
      "source": [
        "#print(convo_2_pooling.shape)"
      ],
      "execution_count": 0,
      "outputs": []
    },
    {
      "cell_type": "code",
      "metadata": {
        "collapsed": true,
        "id": "g0yF11JTfN0B",
        "colab_type": "code",
        "colab": {}
      },
      "source": [
        "# Using a 6by6 filter here, used 5by5 in video, you can play around with the filter size\n",
        "## You can actually change the 64 output if you want, you can think of that as a representation\n",
        "# of the amount of 6by6 filters used.\n",
        "convo_3 = convolutional_layer(convo_2,shape=[3,3,16,32])\n",
        "convo_3_pooling = max_pool_2by2(convo_3)"
      ],
      "execution_count": 0,
      "outputs": []
    },
    {
      "cell_type": "code",
      "metadata": {
        "collapsed": true,
        "id": "kW50R3CKfN0C",
        "colab_type": "code",
        "colab": {}
      },
      "source": [
        ""
      ],
      "execution_count": 0,
      "outputs": []
    },
    {
      "cell_type": "code",
      "metadata": {
        "id": "F1OFvnKJfN0F",
        "colab_type": "code",
        "outputId": "0ccfc448-d71b-4059-eee4-d6ef98fff71a",
        "colab": {}
      },
      "source": [
        "print(convo_3_pooling.shape)"
      ],
      "execution_count": 0,
      "outputs": [
        {
          "output_type": "stream",
          "text": [
            "(?, 24, 32, 32)\n"
          ],
          "name": "stdout"
        }
      ]
    },
    {
      "cell_type": "code",
      "metadata": {
        "collapsed": true,
        "id": "lK5Ch1YKfN0I",
        "colab_type": "code",
        "colab": {}
      },
      "source": [
        "# Using a 6by6 filter here, used 5by5 in video, you can play around with the filter size\n",
        "# You can actually change the 64 output if you want, you can think of that as a representation\n",
        "# of the amount of 6by6 filters used.\n",
        "convo_4 = convolutional_layer(convo_3_pooling,shape=[3,3,32,64])\n",
        "convo_4_pooling = max_pool_2by2(convo_4)"
      ],
      "execution_count": 0,
      "outputs": []
    },
    {
      "cell_type": "code",
      "metadata": {
        "id": "XLw9sqc3fN0J",
        "colab_type": "code",
        "outputId": "a0708029-9655-48a9-d8a4-5cb7535713b1",
        "colab": {}
      },
      "source": [
        "print(convo_4_pooling.shape)"
      ],
      "execution_count": 0,
      "outputs": [
        {
          "output_type": "stream",
          "text": [
            "(?, 12, 16, 64)\n"
          ],
          "name": "stdout"
        }
      ]
    },
    {
      "cell_type": "code",
      "metadata": {
        "collapsed": true,
        "id": "mrjbYcoHfN0L",
        "colab_type": "code",
        "colab": {}
      },
      "source": [
        "convo_5 = convolutional_layer(convo_4,shape=[3,3,64,128])\n",
        "#convo_5_pooling = max_pool_2by2(convo_5)"
      ],
      "execution_count": 0,
      "outputs": []
    },
    {
      "cell_type": "code",
      "metadata": {
        "id": "AUhatLBVfN0M",
        "colab_type": "code",
        "outputId": "7cb743a7-0acc-49e4-c095-d4b9ddaa3ef7",
        "colab": {}
      },
      "source": [
        "print(convo_5.shape)"
      ],
      "execution_count": 0,
      "outputs": [
        {
          "output_type": "stream",
          "text": [
            "(?, 24, 32, 128)\n"
          ],
          "name": "stdout"
        }
      ]
    },
    {
      "cell_type": "code",
      "metadata": {
        "collapsed": true,
        "id": "2umt_QNxfN0O",
        "colab_type": "code",
        "colab": {}
      },
      "source": [
        "convo_6 = convolutional_layer(convo_5,shape=[3,3,128,256])\n",
        "#convo_6_pooling = max_pool_2by2(convo_6)"
      ],
      "execution_count": 0,
      "outputs": []
    },
    {
      "cell_type": "code",
      "metadata": {
        "id": "q1RQ1ZCcfN0Q",
        "colab_type": "code",
        "outputId": "42be2bac-3787-4d11-9030-093dd15720cf",
        "colab": {}
      },
      "source": [
        "print(convo_6.shape)"
      ],
      "execution_count": 0,
      "outputs": [
        {
          "output_type": "stream",
          "text": [
            "(?, 24, 32, 256)\n"
          ],
          "name": "stdout"
        }
      ]
    },
    {
      "cell_type": "code",
      "metadata": {
        "collapsed": true,
        "id": "lnPU1krEfN0S",
        "colab_type": "code",
        "colab": {}
      },
      "source": [
        "deconv_6 = deconvolutional_layer(convo_6, shape = [3,3,256,128])"
      ],
      "execution_count": 0,
      "outputs": []
    },
    {
      "cell_type": "code",
      "metadata": {
        "id": "OA6GQlpwfN0U",
        "colab_type": "code",
        "outputId": "cc33fdd3-5efd-4554-e609-8113b3228e23",
        "colab": {}
      },
      "source": [
        "deconv_6.shape"
      ],
      "execution_count": 0,
      "outputs": [
        {
          "output_type": "execute_result",
          "data": {
            "text/plain": [
              "TensorShape([Dimension(None), Dimension(26), Dimension(34), Dimension(128)])"
            ]
          },
          "metadata": {
            "tags": []
          },
          "execution_count": 56
        }
      ]
    },
    {
      "cell_type": "code",
      "metadata": {
        "collapsed": true,
        "id": "KIx6JFX7fN0X",
        "colab_type": "code",
        "colab": {}
      },
      "source": [
        "# Why 7 by 7 image? Because we did 2 pooling layers, so (28/2)/2 = 7\n",
        "# 64 then just comes from the output of the previous Convolution\n",
        "deconvo_6_flat = tf.reshape(deconv_6,[-1,26*34*128])\n",
        "full_layer_one = tf.nn.relu(normal_full_layer(deconvo_6_flat,96*128))"
      ],
      "execution_count": 0,
      "outputs": []
    },
    {
      "cell_type": "code",
      "metadata": {
        "id": "_RJR5cksfN0Z",
        "colab_type": "code",
        "outputId": "d1e2edca-ee64-4084-dcd9-aa2b95c6e34f",
        "colab": {}
      },
      "source": [
        "print(full_layer_one.shape)\n"
      ],
      "execution_count": 0,
      "outputs": [
        {
          "output_type": "stream",
          "text": [
            "(?, 12288)\n"
          ],
          "name": "stdout"
        }
      ]
    },
    {
      "cell_type": "code",
      "metadata": {
        "collapsed": true,
        "id": "BUOuhsoqfN0a",
        "colab_type": "code",
        "colab": {}
      },
      "source": [
        "# NOTE THE PLACEHOLDER HERE!\n",
        "hold_prob = tf.placeholder(tf.float32)\n",
        "\n",
        "full_one_dropout = tf.nn.dropout(full_layer_one,keep_prob=hold_prob)"
      ],
      "execution_count": 0,
      "outputs": []
    },
    {
      "cell_type": "code",
      "metadata": {
        "collapsed": true,
        "id": "iEiMBW0bfN0c",
        "colab_type": "code",
        "colab": {}
      },
      "source": [
        "#full_layer_two = tf.nn.relu(normal_full_layer(full_one_dropout,96*128))\n"
      ],
      "execution_count": 0,
      "outputs": []
    },
    {
      "cell_type": "code",
      "metadata": {
        "collapsed": true,
        "id": "0gv4a5-ffN0d",
        "colab_type": "code",
        "colab": {}
      },
      "source": [
        "#full_layer_three = tf.nn.relu(normal_full_layer(full_layer_two,192*256))\n"
      ],
      "execution_count": 0,
      "outputs": []
    },
    {
      "cell_type": "markdown",
      "metadata": {
        "id": "EEAI_bK3fN0e",
        "colab_type": "text"
      },
      "source": [
        "deconv_layer_one = "
      ]
    },
    {
      "cell_type": "markdown",
      "metadata": {
        "id": "MvXbU049fN0e",
        "colab_type": "text"
      },
      "source": [
        "## Augment the output with a direct connection to the input photo"
      ]
    },
    {
      "cell_type": "markdown",
      "metadata": {
        "id": "2EuKsLJ0fN0f",
        "colab_type": "text"
      },
      "source": [
        "#do not use for now\n",
        "\n",
        "flat_in = tf.reshape(x,[-1,1764])\n",
        "aug = tf.concat([flat_in, full_one_dropout], axis = 1)\n",
        "print(flat_in.shape)\n",
        "print(full_one_dropout.shape)\n",
        "print(aug.shape)\n",
        "##need to think about how to concatenate these"
      ]
    },
    {
      "cell_type": "markdown",
      "metadata": {
        "id": "uI1iPuAlfN0f",
        "colab_type": "text"
      },
      "source": [
        "\n",
        "full_one_plus_in = tf.convert_to_tensor(aug, dtype=tf.float32)"
      ]
    },
    {
      "cell_type": "markdown",
      "metadata": {
        "id": "OMWgjB_8fN0g",
        "colab_type": "text"
      },
      "source": [
        "type(full_one_dropout)"
      ]
    },
    {
      "cell_type": "code",
      "metadata": {
        "id": "Zk0vZ8CofN0g",
        "colab_type": "code",
        "colab": {}
      },
      "source": [
        "y_pred = normal_full_layer(full_one_dropout, 96*128)"
      ],
      "execution_count": 0,
      "outputs": []
    },
    {
      "cell_type": "markdown",
      "metadata": {
        "id": "kzfSiPBifN0i",
        "colab_type": "text"
      },
      "source": [
        "### Loss Function"
      ]
    },
    {
      "cell_type": "code",
      "metadata": {
        "id": "gGxLHevsfN0i",
        "colab_type": "code",
        "colab": {}
      },
      "source": [
        "cross_entropy = tf.reduce_mean(tf.nn.sigmoid_cross_entropy_with_logits(labels=y_true,logits=y_pred))"
      ],
      "execution_count": 0,
      "outputs": []
    },
    {
      "cell_type": "code",
      "metadata": {
        "collapsed": true,
        "id": "OwrgZr8WfN0k",
        "colab_type": "code",
        "colab": {}
      },
      "source": [
        ""
      ],
      "execution_count": 0,
      "outputs": []
    },
    {
      "cell_type": "markdown",
      "metadata": {
        "id": "Vd8V8rTafN0l",
        "colab_type": "text"
      },
      "source": [
        "### Optimizer"
      ]
    },
    {
      "cell_type": "code",
      "metadata": {
        "id": "ShpM5aWifN0m",
        "colab_type": "code",
        "colab": {}
      },
      "source": [
        "optimizer = tf.train.AdamOptimizer(learning_rate=0.003)\n",
        "train = optimizer.minimize(cross_entropy)   #can this be done for each pixel?"
      ],
      "execution_count": 0,
      "outputs": []
    },
    {
      "cell_type": "markdown",
      "metadata": {
        "id": "2pgeA03VfN0o",
        "colab_type": "text"
      },
      "source": [
        "### Intialize Variables"
      ]
    },
    {
      "cell_type": "code",
      "metadata": {
        "collapsed": true,
        "id": "b6p_q-h8fN0p",
        "colab_type": "code",
        "colab": {}
      },
      "source": [
        "init = tf.global_variables_initializer()"
      ],
      "execution_count": 0,
      "outputs": []
    },
    {
      "cell_type": "code",
      "metadata": {
        "collapsed": true,
        "id": "IJBnGN8bfN0r",
        "colab_type": "code",
        "colab": {}
      },
      "source": [
        "saver = tf.train.Saver()"
      ],
      "execution_count": 0,
      "outputs": []
    },
    {
      "cell_type": "markdown",
      "metadata": {
        "id": "uJSc-_gtfN0s",
        "colab_type": "text"
      },
      "source": [
        "### Session"
      ]
    },
    {
      "cell_type": "code",
      "metadata": {
        "id": "sCgyHGU9fN0s",
        "colab_type": "code",
        "outputId": "2b3737ec-9f1d-42a6-bd82-e15309a0ddfc",
        "colab": {}
      },
      "source": [
        "mel = MelHelper()\n",
        "mel.set_up_images()"
      ],
      "execution_count": 0,
      "outputs": [
        {
          "output_type": "stream",
          "text": [
            "Setting Up Training Images and Labels\n",
            "Setting Up Test Images and Labels\n"
          ],
          "name": "stdout"
        }
      ]
    },
    {
      "cell_type": "code",
      "metadata": {
        "scrolled": false,
        "id": "LvFchSc7fN0v",
        "colab_type": "code",
        "outputId": "df3f4a0f-3ffc-4b3e-b85a-234c6cb3ebca",
        "colab": {}
      },
      "source": [
        "steps = 10001\n",
        "import time\n",
        "batch_size = 1\n",
        "\n",
        "#use Cifar_helper to set up next batch\n",
        "with tf.Session() as sess:\n",
        "    sess.run(init)\n",
        "    print(\"done init\")\n",
        "    \n",
        "    start_time = time.clock()\n",
        "    \n",
        "    for i in range(steps): \n",
        "        batch_x, batch_y = mel.next_batch(batch_size)\n",
        "        #print(i)\n",
        "        #print(\"\\n\")\n",
        "        \n",
        "        #print(\"batch training labels shape is \", batch_y.shape)\n",
        "        #print(\"batch training labels type is \", batch_y.dtype)\n",
        "        #print(\"batch training labels are \", batch_y)\n",
        "        #print(\"batch training data are \", batch_x)\n",
        "        #image = batch_y.reshape(-1,21,28)[5,:,:]\n",
        "        sess.run(train,feed_dict={x:batch_x,y_true:batch_y,hold_prob:0.5})\n",
        "        #print(\"batch training prediction are \", batch_y)\n",
        "        #image_pred = sess.run(y_pred,feed_dict={x:batch_x,y_true:batch_y,hold_prob:1.0} ).reshape(-1,21,28)[5,:,:]\n",
        "        #image_pred = np.round(1/(1 + np.exp(-image_pred)))\n",
        "        \n",
        "        if i%100 == 0:\n",
        "            print('Currently on step {}'.format(i))\n",
        "            print(\"the time is \", time.clock() - start_time, \"\\n\")\n",
        "             #print(\"mel i is \", mel.i)\n",
        "             #plt.imshow(image)\n",
        "             #plt.show()\n",
        "             #plt.imshow(image_pred)\n",
        "             #plt.show()\n",
        "            \n",
        "            #print('Currently on step {}'.format(i))\n",
        "            #print('Accuracy is:')\n",
        "            # Test the Train Model\n",
        "            #matches = tf.equal(tf.argmax(y_pred,1),tf.argmax(y_true,1))\n",
        "\n",
        "            #acc = tf.reduce_mean(tf.cast(matches,tf.float32))\n",
        "\n",
        "            pred = tf.round(1/(1 + tf.exp(-tf.reshape(y_pred, [-1,21,28]))))\n",
        "            true = tf.reshape(y_true, [-1,21,28])\n",
        "          \n",
        "            # Test the Train Model\n",
        "            #matches = tf.equal(tf.argmax(y_pred,1),tf.argmax(y_true,1))  ###REPLACE THIS LINE TO INCLUDE JACARD INDEX####\n",
        "            #y_pred = tf.round(y_pred)\n",
        "            #y_true = tf.round(y_true)\n",
        "            \n",
        "            intersect = tf.reduce_sum(tf.cast(true*pred, tf.float32), axis = [1,2])\n",
        "            union = tf.reduce_sum(tf.cast(pred, tf.float32), axis = [1,2]) + tf.reduce_sum(tf.cast(true, tf.float32), axis = [1,2]) - intersect  #think this has an error\n",
        "            jacc = intersect/union\n",
        "            #acc = tf.reduce_mean(tf.cast(intersect,tf.float32))\n",
        "            #print(\"test labels shape is \", mel.test_labels.shape)\n",
        "            #print(\"\\n\")\n",
        "            \n",
        "            print('Avg Jacc is:')\n",
        "            J_out = sess.run([jacc, pred],feed_dict={x:mel.test_images,y_true:mel.test_labels,hold_prob:1.0})\n",
        "            print(np.sum(J_out[0])/J_out[0].shape[0], \" step number is \",  i, \" batch_size is \", batch_size)\n",
        "            #if i == 500:\n",
        "                #batch_size = 20\n",
        "            #if i == 25000:\n",
        "                #batch_size = 200\n",
        "            \n",
        "            #print out Jacc for training set and test set, Save Jacc and entropy to variable,\n",
        "            #print out step number\n",
        "            \n",
        "            #use larger pics\n",
        "            #print out and analyse cross entropy\n",
        "            #run with full training batch for several iterations\n",
        "            #pred = sess.run(pred,feed_dict={x:mel.test_images,y_true:mel.test_labels,hold_prob:1.0})\n",
        "            \n",
        "        if i == steps - 1:\n",
        "            \n",
        "            pred_pigment = sess.run([pred],feed_dict={x:pigs,hold_prob:1.0})\n",
        "            \n",
        "        #save_path = saver.save(sess, \"./model.ckpt\")"
      ],
      "execution_count": 0,
      "outputs": [
        {
          "output_type": "stream",
          "text": [
            "done init\n",
            "Currently on step 0\n",
            "the time is  171.70469281774717 \n",
            "\n",
            "Avg Jacc is:\n"
          ],
          "name": "stdout"
        }
      ]
    },
    {
      "cell_type": "markdown",
      "metadata": {
        "id": "ozKxJoKafN0x",
        "colab_type": "text"
      },
      "source": [
        "## Great Job!"
      ]
    },
    {
      "cell_type": "code",
      "metadata": {
        "id": "aPBW3tGrfN0x",
        "colab_type": "code",
        "colab": {}
      },
      "source": [
        "plt.imshow(pred_pigment[0][5,:,:])\n",
        "plt.show()"
      ],
      "execution_count": 0,
      "outputs": []
    },
    {
      "cell_type": "code",
      "metadata": {
        "id": "F065GTgDfN0y",
        "colab_type": "code",
        "colab": {}
      },
      "source": [
        "pigs.shape"
      ],
      "execution_count": 0,
      "outputs": []
    },
    {
      "cell_type": "code",
      "metadata": {
        "id": "hpT_cK9NfN01",
        "colab_type": "code",
        "colab": {}
      },
      "source": [
        "pred_pigment[0].shape"
      ],
      "execution_count": 0,
      "outputs": []
    },
    {
      "cell_type": "code",
      "metadata": {
        "id": "Zxfv9B0wfN03",
        "colab_type": "code",
        "colab": {}
      },
      "source": [
        "plt.imshow(pigment_image_show)\n",
        "plt.show()"
      ],
      "execution_count": 0,
      "outputs": []
    },
    {
      "cell_type": "code",
      "metadata": {
        "id": "JAPOpkOnfN05",
        "colab_type": "code",
        "colab": {}
      },
      "source": [
        "mask = np.zeros([21,28,3])#np.vstack([pred_pigment[0],pred_pigment[0],pred_pigment[0]])\n",
        "mask[:,:,0] = pred_pigment[0][0,:,:]\n",
        "mask[:,:,1] = pred_pigment[0][0,:,:]\n",
        "mask[:,:,2] = pred_pigment[0][0,:,:]\n",
        "#mask = 1-mask\n",
        "#mask = mask.astype(int)\n",
        "\n",
        "image = pigment_image_show\n",
        "#image[mask] = 0\n",
        "image2 = image*mask*255\n",
        "image1 = image*(1- mask)*255\n"
      ],
      "execution_count": 0,
      "outputs": []
    },
    {
      "cell_type": "code",
      "metadata": {
        "id": "sUdEkyQDfN06",
        "colab_type": "code",
        "colab": {}
      },
      "source": [
        "plt.imshow(image2)\n",
        "plt.show()"
      ],
      "execution_count": 0,
      "outputs": []
    },
    {
      "cell_type": "code",
      "metadata": {
        "id": "UOT68oxRfN08",
        "colab_type": "code",
        "colab": {}
      },
      "source": [
        "plt.imshow(image1)\n",
        "plt.show()"
      ],
      "execution_count": 0,
      "outputs": []
    },
    {
      "cell_type": "code",
      "metadata": {
        "id": "ajywFtjAfN09",
        "colab_type": "code",
        "colab": {}
      },
      "source": [
        "image2[:,:,0].shape"
      ],
      "execution_count": 0,
      "outputs": []
    },
    {
      "cell_type": "code",
      "metadata": {
        "id": "K24a-3W1fN0_",
        "colab_type": "code",
        "colab": {}
      },
      "source": [
        "red = image2[:,:,0].reshape(-1)"
      ],
      "execution_count": 0,
      "outputs": []
    },
    {
      "cell_type": "code",
      "metadata": {
        "id": "ONqRmNbgfN1A",
        "colab_type": "code",
        "colab": {}
      },
      "source": [
        "plt.hist(red, bins = 500, range = (0.1, red.max()))"
      ],
      "execution_count": 0,
      "outputs": []
    },
    {
      "cell_type": "code",
      "metadata": {
        "id": "Dx1I2TsyfN1B",
        "colab_type": "code",
        "colab": {}
      },
      "source": [
        "plt.show()"
      ],
      "execution_count": 0,
      "outputs": []
    },
    {
      "cell_type": "code",
      "metadata": {
        "id": "sr2dpX_dfN1C",
        "colab_type": "code",
        "colab": {}
      },
      "source": [
        "a2 = np.average(red, weights = mask[:,:,0].reshape(-1))"
      ],
      "execution_count": 0,
      "outputs": []
    },
    {
      "cell_type": "code",
      "metadata": {
        "id": "Jevzwut9fN1E",
        "colab_type": "code",
        "colab": {}
      },
      "source": [
        "a2"
      ],
      "execution_count": 0,
      "outputs": []
    },
    {
      "cell_type": "code",
      "metadata": {
        "id": "7BHV-xfHfN1F",
        "colab_type": "code",
        "colab": {}
      },
      "source": [
        "mask[0].shape"
      ],
      "execution_count": 0,
      "outputs": []
    },
    {
      "cell_type": "code",
      "metadata": {
        "id": "qs855rM1fN1G",
        "colab_type": "code",
        "colab": {}
      },
      "source": [
        "red_norm = image1[:,:,0].reshape(-1)"
      ],
      "execution_count": 0,
      "outputs": []
    },
    {
      "cell_type": "code",
      "metadata": {
        "id": "ea9StQEufN1H",
        "colab_type": "code",
        "colab": {}
      },
      "source": [
        "plt.hist(red_norm, bins = 500, range = (0.1, red_norm.max()))"
      ],
      "execution_count": 0,
      "outputs": []
    },
    {
      "cell_type": "code",
      "metadata": {
        "id": "l3Q9PxaWfN1I",
        "colab_type": "code",
        "colab": {}
      },
      "source": [
        "plt.show()"
      ],
      "execution_count": 0,
      "outputs": []
    },
    {
      "cell_type": "code",
      "metadata": {
        "id": "u2KHoacjfN1J",
        "colab_type": "code",
        "colab": {}
      },
      "source": [
        "mask_inv = 1-mask"
      ],
      "execution_count": 0,
      "outputs": []
    },
    {
      "cell_type": "code",
      "metadata": {
        "id": "rHWWM8OpfN1K",
        "colab_type": "code",
        "colab": {}
      },
      "source": [
        "a1 = np.average(red_norm, weights =mask_inv[:,:,0].reshape(-1))"
      ],
      "execution_count": 0,
      "outputs": []
    },
    {
      "cell_type": "code",
      "metadata": {
        "id": "erjg3_0VfN1L",
        "colab_type": "code",
        "colab": {}
      },
      "source": [
        "mask_inv.shape"
      ],
      "execution_count": 0,
      "outputs": []
    },
    {
      "cell_type": "code",
      "metadata": {
        "id": "EBVZiGiAfN1L",
        "colab_type": "code",
        "colab": {}
      },
      "source": [
        "a1"
      ],
      "execution_count": 0,
      "outputs": []
    },
    {
      "cell_type": "code",
      "metadata": {
        "id": "npZUBCrTfN1M",
        "colab_type": "code",
        "colab": {}
      },
      "source": [
        "a1 - a2"
      ],
      "execution_count": 0,
      "outputs": []
    },
    {
      "cell_type": "code",
      "metadata": {
        "id": "m6Tn1RcofN1N",
        "colab_type": "code",
        "colab": {}
      },
      "source": [
        "blue = image2[:,:,2].reshape(-1)"
      ],
      "execution_count": 0,
      "outputs": []
    },
    {
      "cell_type": "code",
      "metadata": {
        "id": "8uc36qqjfN1O",
        "colab_type": "code",
        "colab": {}
      },
      "source": [
        "blue_norm = image1[:,:,2].reshape(-1)"
      ],
      "execution_count": 0,
      "outputs": []
    },
    {
      "cell_type": "code",
      "metadata": {
        "id": "pYlWlxbXfN1Q",
        "colab_type": "code",
        "colab": {}
      },
      "source": [
        "plt.hist(blue, bins = 500, range = (0.1, blue.max()))\n",
        "plt.show()"
      ],
      "execution_count": 0,
      "outputs": []
    },
    {
      "cell_type": "code",
      "metadata": {
        "id": "Z_tMSOZzfN1R",
        "colab_type": "code",
        "colab": {}
      },
      "source": [
        "plt.hist(blue_norm, bins = 500, range = (0.1, blue_norm.max()))\n",
        "plt.figure()\n",
        "plt.show()"
      ],
      "execution_count": 0,
      "outputs": []
    },
    {
      "cell_type": "code",
      "metadata": {
        "id": "I5dc6TdTfN1S",
        "colab_type": "code",
        "colab": {}
      },
      "source": [
        "def measure_progress(pigs,masks):\n",
        "    blue_pigs = []\n",
        "    blue_norms = []\n",
        "    imagesp = []\n",
        "    imagesn = []\n",
        "    i = 0\n",
        "    for pig in pigs:\n",
        "        mask = np.zeros([21,28,3])#np.vstack([pred_pigment[0],pred_pigment[0],pred_pigment[0]])\n",
        "        mask[:,:,0] = pred_pigment[0][i,:,:]\n",
        "        mask[:,:,1] = pred_pigment[0][i,:,:]\n",
        "        mask[:,:,2] = pred_pigment[0][i,:,:]\n",
        "        mask_inv = 1- mask\n",
        "        imagep = pig*mask*255\n",
        "        imagen = pig*(1- mask)*255\n",
        "        imagesp += [imagep]\n",
        "        imagesn += [imagen]\n",
        "        blue_norm = imagen[:,:,2].reshape(-1)\n",
        "        blue_pig = imagep[:,:,2].reshape(-1)\n",
        "        an = np.average(blue_norm, weights =mask_inv[:,:,2].reshape(-1))\n",
        "        ap = np.average(blue_pig, weights =mask[:,:,2].reshape(-1))\n",
        "        blue_pigs += [ap]\n",
        "        blue_norms += [an]\n",
        "        i+=1\n",
        "    blue_pigs = np.array(blue_pigs)\n",
        "    blue_norms = np.array(blue_norms)\n",
        "    return(blue_pigs, blue_norms, imagesp, imagesn)"
      ],
      "execution_count": 0,
      "outputs": []
    },
    {
      "cell_type": "code",
      "metadata": {
        "id": "0Gl1CurMfN1T",
        "colab_type": "code",
        "colab": {}
      },
      "source": [
        "pigmented, normal, imagesp, imagesn = measure_progress(pigs,pred_pigment)"
      ],
      "execution_count": 0,
      "outputs": []
    },
    {
      "cell_type": "code",
      "metadata": {
        "id": "hIybHR8HfN1U",
        "colab_type": "code",
        "colab": {}
      },
      "source": [
        "J_out[1].shape"
      ],
      "execution_count": 0,
      "outputs": []
    },
    {
      "cell_type": "code",
      "metadata": {
        "id": "SFU1gqlwfN1V",
        "colab_type": "code",
        "colab": {}
      },
      "source": [
        "pigmented"
      ],
      "execution_count": 0,
      "outputs": []
    },
    {
      "cell_type": "code",
      "metadata": {
        "id": "OGl5P8_DfN1W",
        "colab_type": "code",
        "colab": {}
      },
      "source": [
        "normal"
      ],
      "execution_count": 0,
      "outputs": []
    },
    {
      "cell_type": "code",
      "metadata": {
        "id": "SI0Ug5XQfN1X",
        "colab_type": "code",
        "colab": {}
      },
      "source": [
        "plt.plot(normal - pigmented)"
      ],
      "execution_count": 0,
      "outputs": []
    },
    {
      "cell_type": "code",
      "metadata": {
        "id": "2Y-HM_QTfN1X",
        "colab_type": "code",
        "colab": {}
      },
      "source": [
        "plt.plot(normal)"
      ],
      "execution_count": 0,
      "outputs": []
    },
    {
      "cell_type": "code",
      "metadata": {
        "id": "hPauIGdCfN1Y",
        "colab_type": "code",
        "colab": {}
      },
      "source": [
        "plt.plot(pigmented)"
      ],
      "execution_count": 0,
      "outputs": []
    },
    {
      "cell_type": "code",
      "metadata": {
        "id": "EKYExBeMfN1Z",
        "colab_type": "code",
        "colab": {}
      },
      "source": [
        "plt.imshow(imagesp[0])"
      ],
      "execution_count": 0,
      "outputs": []
    },
    {
      "cell_type": "code",
      "metadata": {
        "id": "RGbveiABfN1a",
        "colab_type": "code",
        "colab": {}
      },
      "source": [
        "plt.imshow(imagesp[1])"
      ],
      "execution_count": 0,
      "outputs": []
    },
    {
      "cell_type": "code",
      "metadata": {
        "id": "QLx2lHwtfN1b",
        "colab_type": "code",
        "colab": {}
      },
      "source": [
        "plt.imshow(imagesp[2])"
      ],
      "execution_count": 0,
      "outputs": []
    },
    {
      "cell_type": "code",
      "metadata": {
        "id": "X5_39MM-fN1d",
        "colab_type": "code",
        "colab": {}
      },
      "source": [
        "plt.imshow(imagesp[3])"
      ],
      "execution_count": 0,
      "outputs": []
    },
    {
      "cell_type": "code",
      "metadata": {
        "id": "p3d7xIRpfN1e",
        "colab_type": "code",
        "colab": {}
      },
      "source": [
        "plt.imshow(imagesp[4])"
      ],
      "execution_count": 0,
      "outputs": []
    },
    {
      "cell_type": "code",
      "metadata": {
        "id": "lVuabyyffN1f",
        "colab_type": "code",
        "colab": {}
      },
      "source": [
        "plt.imshow(imagesp[5])"
      ],
      "execution_count": 0,
      "outputs": []
    },
    {
      "cell_type": "code",
      "metadata": {
        "id": "ecXz5Qg2fN1g",
        "colab_type": "code",
        "colab": {}
      },
      "source": [
        "plt.imshow(imagesp[6])"
      ],
      "execution_count": 0,
      "outputs": []
    },
    {
      "cell_type": "code",
      "metadata": {
        "id": "vljOjV8AfN1g",
        "colab_type": "code",
        "colab": {}
      },
      "source": [
        "plt.imshow(imagesp[7])"
      ],
      "execution_count": 0,
      "outputs": []
    },
    {
      "cell_type": "code",
      "metadata": {
        "id": "20qm-GS0fN1h",
        "colab_type": "code",
        "colab": {}
      },
      "source": [
        "plt.imshow(imagesp[8])"
      ],
      "execution_count": 0,
      "outputs": []
    },
    {
      "cell_type": "code",
      "metadata": {
        "id": "_raVEmR1fN1j",
        "colab_type": "code",
        "colab": {}
      },
      "source": [
        "plt.imshow(imagesp[9])"
      ],
      "execution_count": 0,
      "outputs": []
    },
    {
      "cell_type": "code",
      "metadata": {
        "id": "jLG0X9zwfN1l",
        "colab_type": "code",
        "colab": {}
      },
      "source": [
        "plt.imshow(imagesp[10])"
      ],
      "execution_count": 0,
      "outputs": []
    },
    {
      "cell_type": "code",
      "metadata": {
        "id": "551fWebzfN1m",
        "colab_type": "code",
        "colab": {}
      },
      "source": [
        "pigmented[0]"
      ],
      "execution_count": 0,
      "outputs": []
    },
    {
      "cell_type": "code",
      "metadata": {
        "id": "mD9EF_yxfN1m",
        "colab_type": "code",
        "colab": {}
      },
      "source": [
        "pigmented[10]"
      ],
      "execution_count": 0,
      "outputs": []
    },
    {
      "cell_type": "code",
      "metadata": {
        "id": "ks9ZDXfWfN1n",
        "colab_type": "code",
        "colab": {}
      },
      "source": [
        "plt.imshow(imagesp[0])"
      ],
      "execution_count": 0,
      "outputs": []
    },
    {
      "cell_type": "code",
      "metadata": {
        "id": "lqMFsSngfN1o",
        "colab_type": "code",
        "colab": {}
      },
      "source": [
        "plt.imshow(imagesp[11])"
      ],
      "execution_count": 0,
      "outputs": []
    },
    {
      "cell_type": "code",
      "metadata": {
        "id": "FHHB-0G2fN1p",
        "colab_type": "code",
        "colab": {}
      },
      "source": [
        "plt.imshow(imagesp[12])"
      ],
      "execution_count": 0,
      "outputs": []
    },
    {
      "cell_type": "code",
      "metadata": {
        "id": "ZgSGsY2YfN1q",
        "colab_type": "code",
        "colab": {}
      },
      "source": [
        "plt.imshow(imagesp[13])"
      ],
      "execution_count": 0,
      "outputs": []
    },
    {
      "cell_type": "code",
      "metadata": {
        "id": "s4TjKPuQfN1s",
        "colab_type": "code",
        "colab": {}
      },
      "source": [
        "plt.imshow(imagesp[14])"
      ],
      "execution_count": 0,
      "outputs": []
    },
    {
      "cell_type": "code",
      "metadata": {
        "id": "5yDzxusDfN1t",
        "colab_type": "code",
        "colab": {}
      },
      "source": [
        "plt.imshow(imagesp[15])"
      ],
      "execution_count": 0,
      "outputs": []
    },
    {
      "cell_type": "code",
      "metadata": {
        "id": "px8uG7stfN1t",
        "colab_type": "code",
        "colab": {}
      },
      "source": [
        "plt.imshow(imagesp[16])"
      ],
      "execution_count": 0,
      "outputs": []
    },
    {
      "cell_type": "code",
      "metadata": {
        "id": "WCVqCLpcfN1u",
        "colab_type": "code",
        "colab": {}
      },
      "source": [
        "plt.imshow(imagesp[17])"
      ],
      "execution_count": 0,
      "outputs": []
    },
    {
      "cell_type": "code",
      "metadata": {
        "id": "1UXuk8sxfN1x",
        "colab_type": "code",
        "colab": {}
      },
      "source": [
        "plt.imshow(imagesp[18])"
      ],
      "execution_count": 0,
      "outputs": []
    },
    {
      "cell_type": "code",
      "metadata": {
        "id": "hbx4K_-9fN1y",
        "colab_type": "code",
        "colab": {}
      },
      "source": [
        "plt.imshow(imagesp[19])"
      ],
      "execution_count": 0,
      "outputs": []
    },
    {
      "cell_type": "code",
      "metadata": {
        "id": "e6MwZhmyfN1y",
        "colab_type": "code",
        "colab": {}
      },
      "source": [
        "plt.imshow(imagesp[20])"
      ],
      "execution_count": 0,
      "outputs": []
    },
    {
      "cell_type": "code",
      "metadata": {
        "id": "L2t3dY8EfN11",
        "colab_type": "code",
        "colab": {}
      },
      "source": [
        "plt.imshow(imagesp[21])"
      ],
      "execution_count": 0,
      "outputs": []
    },
    {
      "cell_type": "code",
      "metadata": {
        "id": "DuGQCCKnfN11",
        "colab_type": "code",
        "colab": {}
      },
      "source": [
        "plt.imshow(imagesp[22])"
      ],
      "execution_count": 0,
      "outputs": []
    },
    {
      "cell_type": "code",
      "metadata": {
        "id": "ust1UM-LfN15",
        "colab_type": "code",
        "colab": {}
      },
      "source": [
        "plt.imshow(imagesp[23])"
      ],
      "execution_count": 0,
      "outputs": []
    },
    {
      "cell_type": "code",
      "metadata": {
        "id": "hrAjXfnUfN16",
        "colab_type": "code",
        "colab": {}
      },
      "source": [
        "plt.imshow(imagesp[24])"
      ],
      "execution_count": 0,
      "outputs": []
    },
    {
      "cell_type": "code",
      "metadata": {
        "id": "Nig__U98fN16",
        "colab_type": "code",
        "colab": {}
      },
      "source": [
        "plt.imshow(imagesp[25])"
      ],
      "execution_count": 0,
      "outputs": []
    },
    {
      "cell_type": "code",
      "metadata": {
        "id": "i7tRlK70fN17",
        "colab_type": "code",
        "colab": {}
      },
      "source": [
        "plt.imshow(imagesp[26])"
      ],
      "execution_count": 0,
      "outputs": []
    },
    {
      "cell_type": "code",
      "metadata": {
        "id": "xhAjKp-FfN18",
        "colab_type": "code",
        "colab": {}
      },
      "source": [
        "plt.imshow(imagesp[27])"
      ],
      "execution_count": 0,
      "outputs": []
    },
    {
      "cell_type": "code",
      "metadata": {
        "id": "ONZHGxYgfN19",
        "colab_type": "code",
        "colab": {}
      },
      "source": [
        "plt.imshow(imagesp[0])"
      ],
      "execution_count": 0,
      "outputs": []
    },
    {
      "cell_type": "code",
      "metadata": {
        "id": "WBoXOjU6fN1-",
        "colab_type": "code",
        "colab": {}
      },
      "source": [
        "test = normal - pigmented"
      ],
      "execution_count": 0,
      "outputs": []
    },
    {
      "cell_type": "code",
      "metadata": {
        "id": "_3vR3FEkfN1_",
        "colab_type": "code",
        "colab": {}
      },
      "source": [
        "test = np.hstack([test[0:2], test[4:8], test[9:21], test[22:26], test[27]])"
      ],
      "execution_count": 0,
      "outputs": []
    },
    {
      "cell_type": "code",
      "metadata": {
        "id": "eBWPYJQqfN2A",
        "colab_type": "code",
        "colab": {}
      },
      "source": [
        "plt.plot(test)"
      ],
      "execution_count": 0,
      "outputs": []
    },
    {
      "cell_type": "code",
      "metadata": {
        "id": "tUhETHmvfN2B",
        "colab_type": "code",
        "colab": {}
      },
      "source": [
        "filenames"
      ],
      "execution_count": 0,
      "outputs": []
    },
    {
      "cell_type": "code",
      "metadata": {
        "id": "cXZzpi6CfN2C",
        "colab_type": "code",
        "colab": {}
      },
      "source": [
        "normal = np.hstack([normal[0:2], normal[12], normal[21:28], normal[2:12], normal[13:20]])"
      ],
      "execution_count": 0,
      "outputs": []
    },
    {
      "cell_type": "code",
      "metadata": {
        "id": "xCGAAJMafN2D",
        "colab_type": "code",
        "colab": {}
      },
      "source": [
        "pigmented = np.hstack([pigmented[0:2], pigmented[12], pigmented[21:28], pigmented[2:12], pigmented[13:20]])"
      ],
      "execution_count": 0,
      "outputs": []
    },
    {
      "cell_type": "code",
      "metadata": {
        "id": "8oUhRhYvfN2E",
        "colab_type": "code",
        "colab": {}
      },
      "source": [
        "plt.plot(normal-pigmented)"
      ],
      "execution_count": 0,
      "outputs": []
    },
    {
      "cell_type": "code",
      "metadata": {
        "id": "RQzHMxI8fN2F",
        "colab_type": "code",
        "colab": {}
      },
      "source": [
        "## 26, 21, 2, 3, 8 -> 8,3,10,11,16"
      ],
      "execution_count": 0,
      "outputs": []
    },
    {
      "cell_type": "code",
      "metadata": {
        "id": "DSo5OEV8fN2F",
        "colab_type": "code",
        "colab": {}
      },
      "source": [
        "normal.shape"
      ],
      "execution_count": 0,
      "outputs": []
    },
    {
      "cell_type": "code",
      "metadata": {
        "id": "kuY1yTNrfN2G",
        "colab_type": "code",
        "colab": {}
      },
      "source": [
        "normal = np.hstack([normal[0:3], normal[4:8], normal[9], normal[12:16], normal[17:27]])"
      ],
      "execution_count": 0,
      "outputs": []
    },
    {
      "cell_type": "code",
      "metadata": {
        "id": "PR9K3H7ufN2H",
        "colab_type": "code",
        "colab": {}
      },
      "source": [
        "pigmented = np.hstack([pigmented[0:3], pigmented[4:8], pigmented[9], pigmented[12:16], pigmented[17:27]])"
      ],
      "execution_count": 0,
      "outputs": []
    },
    {
      "cell_type": "code",
      "metadata": {
        "id": "3xtRhAlQfN2I",
        "colab_type": "code",
        "colab": {}
      },
      "source": [
        "new_files_names = np.hstack([filenames[0:3], filenames[4:8], filenames[9], filenames[12:16], filenames[17:27]])"
      ],
      "execution_count": 0,
      "outputs": []
    },
    {
      "cell_type": "code",
      "metadata": {
        "id": "4Bn2MCC6fN2I",
        "colab_type": "code",
        "colab": {}
      },
      "source": [
        "plt.plot(normal-pigmented)"
      ],
      "execution_count": 0,
      "outputs": []
    },
    {
      "cell_type": "code",
      "metadata": {
        "id": "RGsF6DPXfN2L",
        "colab_type": "code",
        "colab": {}
      },
      "source": [
        "plt.plot(pigmented)"
      ],
      "execution_count": 0,
      "outputs": []
    },
    {
      "cell_type": "code",
      "metadata": {
        "id": "edq64hVRfN2M",
        "colab_type": "code",
        "colab": {}
      },
      "source": [
        "plt.plot(normal)"
      ],
      "execution_count": 0,
      "outputs": []
    },
    {
      "cell_type": "code",
      "metadata": {
        "id": "mKzE4nHQfN2N",
        "colab_type": "code",
        "colab": {}
      },
      "source": [
        "plt.plot(pigmented/normal)"
      ],
      "execution_count": 0,
      "outputs": []
    },
    {
      "cell_type": "code",
      "metadata": {
        "id": "AlBabwzifN2N",
        "colab_type": "code",
        "colab": {}
      },
      "source": [
        "plt.plot((normal - pigmented)/normal)"
      ],
      "execution_count": 0,
      "outputs": []
    },
    {
      "cell_type": "code",
      "metadata": {
        "id": "QgYrZGrXfN2O",
        "colab_type": "code",
        "colab": {}
      },
      "source": [
        "new_files_names"
      ],
      "execution_count": 0,
      "outputs": []
    },
    {
      "cell_type": "code",
      "metadata": {
        "id": "KTrCVmMOfN2P",
        "colab_type": "code",
        "colab": {}
      },
      "source": [
        "plt.imshow(imagesp[12])"
      ],
      "execution_count": 0,
      "outputs": []
    },
    {
      "cell_type": "code",
      "metadata": {
        "id": "ZtyHpfeIfN2Q",
        "colab_type": "code",
        "colab": {}
      },
      "source": [
        ""
      ],
      "execution_count": 0,
      "outputs": []
    },
    {
      "cell_type": "code",
      "metadata": {
        "id": "0-fgJ663fN2U",
        "colab_type": "code",
        "colab": {}
      },
      "source": [
        ""
      ],
      "execution_count": 0,
      "outputs": []
    },
    {
      "cell_type": "markdown",
      "metadata": {
        "id": "AT9oUH6HujIw",
        "colab_type": "text"
      },
      "source": [
        ""
      ]
    }
  ]
}